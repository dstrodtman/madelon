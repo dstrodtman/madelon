{
 "cells": [
  {
   "cell_type": "code",
   "execution_count": 1,
   "metadata": {},
   "outputs": [],
   "source": [
    "%run startup.py\n",
    "%matplotlib inline"
   ]
  },
  {
   "cell_type": "code",
   "execution_count": 2,
   "metadata": {},
   "outputs": [],
   "source": [
    "# con, cur = con_cur_to_class_db()\n",
    "# cur.execute('SELECT feat_257, feat_269, feat_308, feat_315, feat_336, feat_341, \\\n",
    "#             feat_395, feat_504, feat_526, feat_639, feat_681, feat_701, feat_724, \\\n",
    "#             feat_736, feat_769, feat_808, feat_829, feat_867, feat_920, feat_956, target \\\n",
    "#             FROM madelon;')\n",
    "# results = cur.fetchall()\n",
    "# con.close()"
   ]
  },
  {
   "cell_type": "code",
   "execution_count": 3,
   "metadata": {},
   "outputs": [],
   "source": [
    "# df = pd.DataFrame(results)\n",
    "# df.shape"
   ]
  },
  {
   "cell_type": "code",
   "execution_count": 5,
   "metadata": {},
   "outputs": [],
   "source": [
    "# y = df['target']\n",
    "# X = df.drop('target', axis=1)"
   ]
  },
  {
   "cell_type": "code",
   "execution_count": 6,
   "metadata": {},
   "outputs": [],
   "source": [
    "# y.to_pickle('data/y_all.pkl')\n",
    "# X.to_pickle('data/X_all.pkl')"
   ]
  },
  {
   "cell_type": "code",
   "execution_count": 2,
   "metadata": {},
   "outputs": [],
   "source": [
    "y = pd.read_pickle('data/y_all.pkl')\n",
    "X = pd.read_pickle('data/X_all.pkl')"
   ]
  },
  {
   "cell_type": "code",
   "execution_count": 3,
   "metadata": {},
   "outputs": [],
   "source": [
    "from sklearn.decomposition import IncrementalPCA"
   ]
  },
  {
   "cell_type": "code",
   "execution_count": 4,
   "metadata": {},
   "outputs": [],
   "source": [
    "X_train, X_test, y_train, y_test = train_test_split(X, y, stratify=y)"
   ]
  },
  {
   "cell_type": "markdown",
   "metadata": {},
   "source": [
    "# KNC"
   ]
  },
  {
   "cell_type": "code",
   "execution_count": 5,
   "metadata": {},
   "outputs": [],
   "source": [
    "knc_pipe = Pipeline([\n",
    "    ('scaler1', StandardScaler()),\n",
    "    ('ipca', IncrementalPCA(n_components=5, batch_size=2000)),\n",
    "    ('scaler2', StandardScaler()),\n",
    "    ('clf', KNeighborsClassifier(weights='distance', leaf_size=2))\n",
    "])"
   ]
  },
  {
   "cell_type": "code",
   "execution_count": 6,
   "metadata": {},
   "outputs": [],
   "source": [
    "knc_params = {'clf__n_neighbors':(5, 9, 13, 17, 21, 25, 29, 33)}"
   ]
  },
  {
   "cell_type": "code",
   "execution_count": 7,
   "metadata": {},
   "outputs": [],
   "source": [
    "gs_knc = GridSearchCV(knc_pipe, knc_params, cv=5, n_jobs=-1, verbose=2)"
   ]
  },
  {
   "cell_type": "code",
   "execution_count": 8,
   "metadata": {
    "scrolled": false
   },
   "outputs": [
    {
     "name": "stdout",
     "output_type": "stream",
     "text": [
      "Fitting 5 folds for each of 8 candidates, totalling 40 fits\n",
      "[CV] clf__n_neighbors=5 ..............................................\n",
      "[CV] clf__n_neighbors=5 ..............................................\n",
      "[CV] ............................... clf__n_neighbors=5, total=   1.5s\n",
      "[CV] clf__n_neighbors=5 ..............................................\n",
      "[CV] ............................... clf__n_neighbors=5, total=   1.6s\n",
      "[CV] clf__n_neighbors=5 ..............................................\n",
      "[CV] ............................... clf__n_neighbors=5, total=   1.6s\n",
      "[CV] clf__n_neighbors=5 ..............................................\n",
      "[CV] ............................... clf__n_neighbors=5, total=   1.6s\n",
      "[CV] clf__n_neighbors=9 ..............................................\n",
      "[CV] ............................... clf__n_neighbors=5, total=   1.6s\n",
      "[CV] clf__n_neighbors=9 ..............................................\n",
      "[CV] ............................... clf__n_neighbors=9, total=   1.9s\n",
      "[CV] clf__n_neighbors=9 ..............................................\n",
      "[CV] ............................... clf__n_neighbors=9, total=   1.8s\n",
      "[CV] clf__n_neighbors=9 ..............................................\n",
      "[CV] ............................... clf__n_neighbors=9, total=   1.8s\n",
      "[CV] clf__n_neighbors=9 ..............................................\n",
      "[CV] ............................... clf__n_neighbors=9, total=   1.8s\n",
      "[CV] clf__n_neighbors=13 .............................................\n",
      "[CV] ............................... clf__n_neighbors=9, total=   1.8s\n",
      "[CV] clf__n_neighbors=13 .............................................\n",
      "[CV] .............................. clf__n_neighbors=13, total=   2.1s\n",
      "[CV] clf__n_neighbors=13 .............................................\n",
      "[CV] .............................. clf__n_neighbors=13, total=   2.0s\n",
      "[CV] clf__n_neighbors=13 .............................................\n",
      "[CV] .............................. clf__n_neighbors=13, total=   2.2s\n",
      "[CV] clf__n_neighbors=13 .............................................\n",
      "[CV] .............................. clf__n_neighbors=13, total=   2.0s\n",
      "[CV] clf__n_neighbors=17 .............................................\n",
      "[CV] .............................. clf__n_neighbors=13, total=   2.3s\n",
      "[CV] clf__n_neighbors=17 .............................................\n",
      "[CV] .............................. clf__n_neighbors=17, total=   2.2s\n",
      "[CV] clf__n_neighbors=17 .............................................\n",
      "[CV] .............................. clf__n_neighbors=17, total=   2.3s\n",
      "[CV] clf__n_neighbors=17 .............................................\n",
      "[CV] .............................. clf__n_neighbors=17, total=   2.3s\n",
      "[CV] clf__n_neighbors=17 .............................................\n",
      "[CV] .............................. clf__n_neighbors=17, total=   2.2s\n",
      "[CV] clf__n_neighbors=21 .............................................\n",
      "[CV] .............................. clf__n_neighbors=17, total=   2.2s\n",
      "[CV] clf__n_neighbors=21 .............................................\n",
      "[CV] .............................. clf__n_neighbors=21, total=   2.5s\n",
      "[CV] clf__n_neighbors=21 .............................................\n",
      "[CV] .............................. clf__n_neighbors=21, total=   2.5s\n",
      "[CV] clf__n_neighbors=21 .............................................\n",
      "[CV] .............................. clf__n_neighbors=21, total=   2.6s\n",
      "[CV] clf__n_neighbors=21 .............................................\n",
      "[CV] .............................. clf__n_neighbors=21, total=   2.6s\n",
      "[CV] clf__n_neighbors=25 .............................................\n",
      "[CV] .............................. clf__n_neighbors=21, total=   2.6s\n",
      "[CV] clf__n_neighbors=25 .............................................\n",
      "[CV] .............................. clf__n_neighbors=25, total=   2.7s\n",
      "[CV] clf__n_neighbors=25 .............................................\n",
      "[CV] .............................. clf__n_neighbors=25, total=   2.7s\n",
      "[CV] clf__n_neighbors=25 .............................................\n",
      "[CV] .............................. clf__n_neighbors=25, total=   2.7s\n",
      "[CV] clf__n_neighbors=25 .............................................\n",
      "[CV] .............................. clf__n_neighbors=25, total=   2.8s\n",
      "[CV] clf__n_neighbors=29 .............................................\n",
      "[CV] .............................. clf__n_neighbors=25, total=   2.6s\n",
      "[CV] clf__n_neighbors=29 .............................................\n",
      "[CV] .............................. clf__n_neighbors=29, total=   2.9s\n",
      "[CV] clf__n_neighbors=29 .............................................\n",
      "[CV] .............................. clf__n_neighbors=29, total=   3.0s\n",
      "[CV] clf__n_neighbors=29 .............................................\n",
      "[CV] .............................. clf__n_neighbors=29, total=   2.8s\n",
      "[CV] clf__n_neighbors=29 .............................................\n",
      "[CV] .............................. clf__n_neighbors=29, total=   2.9s\n",
      "[CV] clf__n_neighbors=33 .............................................\n",
      "[CV] .............................. clf__n_neighbors=29, total=   2.8s\n",
      "[CV] clf__n_neighbors=33 .............................................\n",
      "[CV] .............................. clf__n_neighbors=33, total=   3.0s\n",
      "[CV] clf__n_neighbors=33 .............................................\n",
      "[CV] .............................. clf__n_neighbors=33, total=   3.0s\n",
      "[CV] clf__n_neighbors=33 .............................................\n"
     ]
    },
    {
     "name": "stderr",
     "output_type": "stream",
     "text": [
      "[Parallel(n_jobs=-1)]: Done  37 tasks      | elapsed:  2.9min\n"
     ]
    },
    {
     "name": "stdout",
     "output_type": "stream",
     "text": [
      "[CV] .............................. clf__n_neighbors=33, total=   3.1s\n",
      "[CV] clf__n_neighbors=33 .............................................\n",
      "[CV] .............................. clf__n_neighbors=33, total=   3.0s\n",
      "[CV] .............................. clf__n_neighbors=33, total=   3.0s\n"
     ]
    },
    {
     "name": "stderr",
     "output_type": "stream",
     "text": [
      "[Parallel(n_jobs=-1)]: Done  40 out of  40 | elapsed:  3.2min finished\n"
     ]
    },
    {
     "data": {
      "text/plain": [
       "GridSearchCV(cv=5, error_score='raise',\n",
       "       estimator=Pipeline(steps=[('scaler1', StandardScaler(copy=True, with_mean=True, with_std=True)), ('ipca', IncrementalPCA(batch_size=2000, copy=True, n_components=5, whiten=False)), ('scaler2', StandardScaler(copy=True, with_mean=True, with_std=True)), ('clf', KNeighborsClassifier(algorithm='auto', leaf_size=2, metric='minkowski',\n",
       "           metric_params=None, n_jobs=1, n_neighbors=5, p=2,\n",
       "           weights='distance'))]),\n",
       "       fit_params={}, iid=True, n_jobs=-1,\n",
       "       param_grid={'clf__n_neighbors': (5, 9, 13, 17, 21, 25, 29, 33)},\n",
       "       pre_dispatch='2*n_jobs', refit=True, return_train_score=True,\n",
       "       scoring=None, verbose=2)"
      ]
     },
     "execution_count": 8,
     "metadata": {},
     "output_type": "execute_result"
    }
   ],
   "source": [
    "gs_knc.fit(X_train, y_train)"
   ]
  },
  {
   "cell_type": "code",
   "execution_count": 9,
   "metadata": {},
   "outputs": [
    {
     "data": {
      "text/plain": [
       "0.86353333333333337"
      ]
     },
     "execution_count": 9,
     "metadata": {},
     "output_type": "execute_result"
    }
   ],
   "source": [
    "gs_knc.best_score_"
   ]
  },
  {
   "cell_type": "code",
   "execution_count": 10,
   "metadata": {},
   "outputs": [
    {
     "data": {
      "text/plain": [
       "{'clf__n_neighbors': 13}"
      ]
     },
     "execution_count": 10,
     "metadata": {},
     "output_type": "execute_result"
    }
   ],
   "source": [
    "gs_knc.best_params_"
   ]
  },
  {
   "cell_type": "code",
   "execution_count": 11,
   "metadata": {},
   "outputs": [
    {
     "data": {
      "text/plain": [
       "1.0"
      ]
     },
     "execution_count": 11,
     "metadata": {},
     "output_type": "execute_result"
    }
   ],
   "source": [
    "gs_knc.score(X_train, y_train)"
   ]
  },
  {
   "cell_type": "code",
   "execution_count": 12,
   "metadata": {
    "scrolled": true
   },
   "outputs": [
    {
     "data": {
      "text/plain": [
       "0.86336000000000002"
      ]
     },
     "execution_count": 12,
     "metadata": {},
     "output_type": "execute_result"
    }
   ],
   "source": [
    "gs_knc.score(X_test, y_test)"
   ]
  }
 ],
 "metadata": {
  "kernelspec": {
   "display_name": "Python 3",
   "language": "python",
   "name": "python3"
  },
  "language_info": {
   "codemirror_mode": {
    "name": "ipython",
    "version": 3
   },
   "file_extension": ".py",
   "mimetype": "text/x-python",
   "name": "python",
   "nbconvert_exporter": "python",
   "pygments_lexer": "ipython3",
   "version": "3.6.3"
  }
 },
 "nbformat": 4,
 "nbformat_minor": 2
}
