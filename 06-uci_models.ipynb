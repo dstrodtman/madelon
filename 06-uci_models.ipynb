{
 "cells": [
  {
   "cell_type": "code",
   "execution_count": 1,
   "metadata": {},
   "outputs": [],
   "source": [
    "%run startup.py\n",
    "\n",
    "%matplotlib inline\n",
    "\n",
    "%run lib/load_uci.py"
   ]
  },
  {
   "cell_type": "code",
   "execution_count": 2,
   "metadata": {},
   "outputs": [
    {
     "name": "stdout",
     "output_type": "stream",
     "text": [
      "Collecting psycopg2\n",
      "  Downloading psycopg2-2.7.3.2-cp36-cp36m-manylinux1_x86_64.whl (2.7MB)\n",
      "\u001b[K    100% |████████████████████████████████| 2.7MB 247kB/s eta 0:00:01\n",
      "\u001b[?25hInstalling collected packages: psycopg2\n",
      "Successfully installed psycopg2-2.7.3.2\n"
     ]
    }
   ],
   "source": [
    "# !pip install psycopg2"
   ]
  },
  {
   "cell_type": "code",
   "execution_count": 34,
   "metadata": {},
   "outputs": [],
   "source": [
    "from sklearn.decomposition import IncrementalPCA"
   ]
  },
  {
   "cell_type": "code",
   "execution_count": 2,
   "metadata": {},
   "outputs": [],
   "source": [
    "X_tr_tc = X_train[top_corrs]\n",
    "X_ts_tc = X_test[top_corrs]"
   ]
  },
  {
   "cell_type": "markdown",
   "metadata": {},
   "source": [
    "# Decision Trees"
   ]
  },
  {
   "cell_type": "code",
   "execution_count": 30,
   "metadata": {},
   "outputs": [],
   "source": [
    "dtc_pipe = Pipeline([\n",
    "    ('scaler1', StandardScaler()),\n",
    "    ('pca', PCA(5)),\n",
    "    ('scaler2', StandardScaler()),\n",
    "    ('clf', DecisionTreeClassifier(criterion='gini'))\n",
    "])"
   ]
  },
  {
   "cell_type": "code",
   "execution_count": 31,
   "metadata": {},
   "outputs": [],
   "source": [
    "dtc_params = {'clf__criterion':('gini', 'entropy'), \n",
    "              'clf__max_depth':(8, 9, 10, 11, 12, None), \n",
    "              'clf__min_samples_leaf':(2,3,4,5,6)}"
   ]
  },
  {
   "cell_type": "code",
   "execution_count": 32,
   "metadata": {},
   "outputs": [],
   "source": [
    "gs_dtc = GridSearchCV(dtc_pipe, dtc_params, cv=5, n_jobs=-1, verbose=2)"
   ]
  },
  {
   "cell_type": "code",
   "execution_count": 33,
   "metadata": {},
   "outputs": [
    {
     "name": "stdout",
     "output_type": "stream",
     "text": [
      "Fitting 5 folds for each of 60 candidates, totalling 300 fits\n",
      "[CV] clf__criterion=gini, clf__max_depth=8, clf__min_samples_leaf=2 ..\n",
      "[CV]  clf__criterion=gini, clf__max_depth=8, clf__min_samples_leaf=2, total=   0.0s\n",
      "[CV] clf__criterion=gini, clf__max_depth=8, clf__min_samples_leaf=2 ..\n",
      "[CV]  clf__criterion=gini, clf__max_depth=8, clf__min_samples_leaf=2, total=   0.0s\n",
      "[CV] clf__criterion=gini, clf__max_depth=8, clf__min_samples_leaf=2 ..\n",
      "[CV]  clf__criterion=gini, clf__max_depth=8, clf__min_samples_leaf=2, total=   0.0s\n",
      "[CV] clf__criterion=gini, clf__max_depth=8, clf__min_samples_leaf=2 ..\n",
      "[CV]  clf__criterion=gini, clf__max_depth=8, clf__min_samples_leaf=2, total=   0.0s\n",
      "[CV] clf__criterion=gini, clf__max_depth=8, clf__min_samples_leaf=2 ..\n",
      "[CV]  clf__criterion=gini, clf__max_depth=8, clf__min_samples_leaf=2, total=   0.0s\n",
      "[CV] clf__criterion=gini, clf__max_depth=8, clf__min_samples_leaf=3 ..\n",
      "[CV]  clf__criterion=gini, clf__max_depth=8, clf__min_samples_leaf=3, total=   0.0s\n",
      "[CV] clf__criterion=gini, clf__max_depth=8, clf__min_samples_leaf=3 ..\n",
      "[CV]  clf__criterion=gini, clf__max_depth=8, clf__min_samples_leaf=3, total=   0.0s\n",
      "[CV] clf__criterion=gini, clf__max_depth=8, clf__min_samples_leaf=3 ..\n",
      "[CV]  clf__criterion=gini, clf__max_depth=8, clf__min_samples_leaf=3, total=   0.0s\n",
      "[CV] clf__criterion=gini, clf__max_depth=8, clf__min_samples_leaf=3 ..\n",
      "[CV]  clf__criterion=gini, clf__max_depth=8, clf__min_samples_leaf=3, total=   0.0s\n",
      "[CV] clf__criterion=gini, clf__max_depth=8, clf__min_samples_leaf=3 ..\n",
      "[CV]  clf__criterion=gini, clf__max_depth=8, clf__min_samples_leaf=3, total=   0.0s\n",
      "[CV] clf__criterion=gini, clf__max_depth=8, clf__min_samples_leaf=4 ..\n",
      "[CV]  clf__criterion=gini, clf__max_depth=8, clf__min_samples_leaf=4, total=   0.0s\n"
     ]
    },
    {
     "name": "stderr",
     "output_type": "stream",
     "text": [
      "[Parallel(n_jobs=-1)]: Done   1 out of   1 | elapsed:    0.0s remaining:    0.0s\n"
     ]
    },
    {
     "name": "stdout",
     "output_type": "stream",
     "text": [
      "[CV] clf__criterion=gini, clf__max_depth=8, clf__min_samples_leaf=4 ..\n",
      "[CV]  clf__criterion=gini, clf__max_depth=8, clf__min_samples_leaf=4, total=   0.0s\n",
      "[CV] clf__criterion=gini, clf__max_depth=8, clf__min_samples_leaf=4 ..\n",
      "[CV]  clf__criterion=gini, clf__max_depth=8, clf__min_samples_leaf=4, total=   0.0s\n",
      "[CV] clf__criterion=gini, clf__max_depth=8, clf__min_samples_leaf=4 ..\n",
      "[CV]  clf__criterion=gini, clf__max_depth=8, clf__min_samples_leaf=4, total=   0.0s\n",
      "[CV] clf__criterion=gini, clf__max_depth=8, clf__min_samples_leaf=4 ..\n",
      "[CV]  clf__criterion=gini, clf__max_depth=8, clf__min_samples_leaf=4, total=   0.0s\n",
      "[CV] clf__criterion=gini, clf__max_depth=8, clf__min_samples_leaf=5 ..\n",
      "[CV]  clf__criterion=gini, clf__max_depth=8, clf__min_samples_leaf=5, total=   0.0s\n",
      "[CV] clf__criterion=gini, clf__max_depth=8, clf__min_samples_leaf=5 ..\n",
      "[CV]  clf__criterion=gini, clf__max_depth=8, clf__min_samples_leaf=5, total=   0.0s\n",
      "[CV] clf__criterion=gini, clf__max_depth=8, clf__min_samples_leaf=5 ..\n",
      "[CV]  clf__criterion=gini, clf__max_depth=8, clf__min_samples_leaf=5, total=   0.0s\n",
      "[CV] clf__criterion=gini, clf__max_depth=8, clf__min_samples_leaf=5 ..\n",
      "[CV]  clf__criterion=gini, clf__max_depth=8, clf__min_samples_leaf=5, total=   0.0s\n",
      "[CV] clf__criterion=gini, clf__max_depth=8, clf__min_samples_leaf=5 ..\n",
      "[CV]  clf__criterion=gini, clf__max_depth=8, clf__min_samples_leaf=5, total=   0.0s\n",
      "[CV] clf__criterion=gini, clf__max_depth=8, clf__min_samples_leaf=6 ..\n",
      "[CV]  clf__criterion=gini, clf__max_depth=8, clf__min_samples_leaf=6, total=   0.0s\n",
      "[CV] clf__criterion=gini, clf__max_depth=8, clf__min_samples_leaf=6 ..\n",
      "[CV]  clf__criterion=gini, clf__max_depth=8, clf__min_samples_leaf=6, total=   0.0s\n",
      "[CV] clf__criterion=gini, clf__max_depth=8, clf__min_samples_leaf=6 ..\n",
      "[CV]  clf__criterion=gini, clf__max_depth=8, clf__min_samples_leaf=6, total=   0.0s\n",
      "[CV] clf__criterion=gini, clf__max_depth=8, clf__min_samples_leaf=6 ..\n",
      "[CV]  clf__criterion=gini, clf__max_depth=8, clf__min_samples_leaf=6, total=   0.0s\n",
      "[CV] clf__criterion=gini, clf__max_depth=8, clf__min_samples_leaf=6 ..\n",
      "[CV]  clf__criterion=gini, clf__max_depth=8, clf__min_samples_leaf=6, total=   0.0s\n",
      "[CV] clf__criterion=gini, clf__max_depth=9, clf__min_samples_leaf=2 ..\n",
      "[CV]  clf__criterion=gini, clf__max_depth=9, clf__min_samples_leaf=2, total=   0.0s\n",
      "[CV] clf__criterion=gini, clf__max_depth=9, clf__min_samples_leaf=2 ..\n",
      "[CV]  clf__criterion=gini, clf__max_depth=9, clf__min_samples_leaf=2, total=   0.0s\n",
      "[CV] clf__criterion=gini, clf__max_depth=9, clf__min_samples_leaf=2 ..\n",
      "[CV]  clf__criterion=gini, clf__max_depth=9, clf__min_samples_leaf=2, total=   0.0s\n",
      "[CV] clf__criterion=gini, clf__max_depth=9, clf__min_samples_leaf=2 ..\n",
      "[CV]  clf__criterion=gini, clf__max_depth=9, clf__min_samples_leaf=2, total=   0.0s\n",
      "[CV] clf__criterion=gini, clf__max_depth=9, clf__min_samples_leaf=2 ..\n",
      "[CV]  clf__criterion=gini, clf__max_depth=9, clf__min_samples_leaf=2, total=   0.0s\n",
      "[CV] clf__criterion=gini, clf__max_depth=9, clf__min_samples_leaf=3 ..\n",
      "[CV]  clf__criterion=gini, clf__max_depth=9, clf__min_samples_leaf=3, total=   0.0s\n",
      "[CV] clf__criterion=gini, clf__max_depth=9, clf__min_samples_leaf=3 ..\n",
      "[CV]  clf__criterion=gini, clf__max_depth=9, clf__min_samples_leaf=3, total=   0.0s\n",
      "[CV] clf__criterion=gini, clf__max_depth=9, clf__min_samples_leaf=3 ..\n",
      "[CV]  clf__criterion=gini, clf__max_depth=9, clf__min_samples_leaf=3, total=   0.0s\n",
      "[CV] clf__criterion=gini, clf__max_depth=9, clf__min_samples_leaf=3 ..\n",
      "[CV]  clf__criterion=gini, clf__max_depth=9, clf__min_samples_leaf=3, total=   0.0s\n",
      "[CV] clf__criterion=gini, clf__max_depth=9, clf__min_samples_leaf=3 ..\n",
      "[CV]  clf__criterion=gini, clf__max_depth=9, clf__min_samples_leaf=3, total=   0.0s\n",
      "[CV] clf__criterion=gini, clf__max_depth=9, clf__min_samples_leaf=4 ..\n",
      "[CV]  clf__criterion=gini, clf__max_depth=9, clf__min_samples_leaf=4, total=   0.0s\n",
      "[CV] clf__criterion=gini, clf__max_depth=9, clf__min_samples_leaf=4 ..\n",
      "[CV]  clf__criterion=gini, clf__max_depth=9, clf__min_samples_leaf=4, total=   0.0s\n",
      "[CV] clf__criterion=gini, clf__max_depth=9, clf__min_samples_leaf=4 ..\n",
      "[CV]  clf__criterion=gini, clf__max_depth=9, clf__min_samples_leaf=4, total=   0.0s\n",
      "[CV] clf__criterion=gini, clf__max_depth=9, clf__min_samples_leaf=4 ..\n",
      "[CV]  clf__criterion=gini, clf__max_depth=9, clf__min_samples_leaf=4, total=   0.0s\n",
      "[CV] clf__criterion=gini, clf__max_depth=9, clf__min_samples_leaf=4 ..\n",
      "[CV]  clf__criterion=gini, clf__max_depth=9, clf__min_samples_leaf=4, total=   0.0s\n",
      "[CV] clf__criterion=gini, clf__max_depth=9, clf__min_samples_leaf=5 ..\n",
      "[CV]  clf__criterion=gini, clf__max_depth=9, clf__min_samples_leaf=5, total=   0.0s\n",
      "[CV] clf__criterion=gini, clf__max_depth=9, clf__min_samples_leaf=5 ..\n",
      "[CV]  clf__criterion=gini, clf__max_depth=9, clf__min_samples_leaf=5, total=   0.0s\n",
      "[CV] clf__criterion=gini, clf__max_depth=9, clf__min_samples_leaf=5 ..\n",
      "[CV]  clf__criterion=gini, clf__max_depth=9, clf__min_samples_leaf=5, total=   0.0s\n",
      "[CV] clf__criterion=gini, clf__max_depth=9, clf__min_samples_leaf=5 ..\n",
      "[CV]  clf__criterion=gini, clf__max_depth=9, clf__min_samples_leaf=5, total=   0.0s\n",
      "[CV] clf__criterion=gini, clf__max_depth=9, clf__min_samples_leaf=5 ..\n",
      "[CV]  clf__criterion=gini, clf__max_depth=9, clf__min_samples_leaf=5, total=   0.0s\n",
      "[CV] clf__criterion=gini, clf__max_depth=9, clf__min_samples_leaf=6 ..\n",
      "[CV]  clf__criterion=gini, clf__max_depth=9, clf__min_samples_leaf=6, total=   0.0s\n",
      "[CV] clf__criterion=gini, clf__max_depth=9, clf__min_samples_leaf=6 ..\n",
      "[CV]  clf__criterion=gini, clf__max_depth=9, clf__min_samples_leaf=6, total=   0.0s\n",
      "[CV] clf__criterion=gini, clf__max_depth=9, clf__min_samples_leaf=6 ..\n",
      "[CV]  clf__criterion=gini, clf__max_depth=9, clf__min_samples_leaf=6, total=   0.0s\n",
      "[CV] clf__criterion=gini, clf__max_depth=9, clf__min_samples_leaf=6 ..\n",
      "[CV]  clf__criterion=gini, clf__max_depth=9, clf__min_samples_leaf=6, total=   0.0s\n",
      "[CV] clf__criterion=gini, clf__max_depth=9, clf__min_samples_leaf=6 ..\n",
      "[CV]  clf__criterion=gini, clf__max_depth=9, clf__min_samples_leaf=6, total=   0.0s\n",
      "[CV] clf__criterion=gini, clf__max_depth=10, clf__min_samples_leaf=2 .\n",
      "[CV]  clf__criterion=gini, clf__max_depth=10, clf__min_samples_leaf=2, total=   0.0s\n",
      "[CV] clf__criterion=gini, clf__max_depth=10, clf__min_samples_leaf=2 .\n",
      "[CV]  clf__criterion=gini, clf__max_depth=10, clf__min_samples_leaf=2, total=   0.0s\n",
      "[CV] clf__criterion=gini, clf__max_depth=10, clf__min_samples_leaf=2 .\n",
      "[CV]  clf__criterion=gini, clf__max_depth=10, clf__min_samples_leaf=2, total=   0.0s\n",
      "[CV] clf__criterion=gini, clf__max_depth=10, clf__min_samples_leaf=2 .\n",
      "[CV]  clf__criterion=gini, clf__max_depth=10, clf__min_samples_leaf=2, total=   0.0s\n",
      "[CV] clf__criterion=gini, clf__max_depth=10, clf__min_samples_leaf=2 .\n",
      "[CV]  clf__criterion=gini, clf__max_depth=10, clf__min_samples_leaf=2, total=   0.0s\n",
      "[CV] clf__criterion=gini, clf__max_depth=10, clf__min_samples_leaf=3 .\n",
      "[CV]  clf__criterion=gini, clf__max_depth=10, clf__min_samples_leaf=3, total=   0.0s\n",
      "[CV] clf__criterion=gini, clf__max_depth=10, clf__min_samples_leaf=3 .\n",
      "[CV]  clf__criterion=gini, clf__max_depth=10, clf__min_samples_leaf=3, total=   0.0s\n",
      "[CV] clf__criterion=gini, clf__max_depth=10, clf__min_samples_leaf=3 .\n",
      "[CV]  clf__criterion=gini, clf__max_depth=10, clf__min_samples_leaf=3, total=   0.0s\n",
      "[CV] clf__criterion=gini, clf__max_depth=10, clf__min_samples_leaf=3 .\n",
      "[CV]  clf__criterion=gini, clf__max_depth=10, clf__min_samples_leaf=3, total=   0.0s\n",
      "[CV] clf__criterion=gini, clf__max_depth=10, clf__min_samples_leaf=3 .\n",
      "[CV]  clf__criterion=gini, clf__max_depth=10, clf__min_samples_leaf=3, total=   0.0s\n",
      "[CV] clf__criterion=gini, clf__max_depth=10, clf__min_samples_leaf=4 .\n",
      "[CV]  clf__criterion=gini, clf__max_depth=10, clf__min_samples_leaf=4, total=   0.0s\n",
      "[CV] clf__criterion=gini, clf__max_depth=10, clf__min_samples_leaf=4 .\n",
      "[CV]  clf__criterion=gini, clf__max_depth=10, clf__min_samples_leaf=4, total=   0.0s\n",
      "[CV] clf__criterion=gini, clf__max_depth=10, clf__min_samples_leaf=4 .\n",
      "[CV]  clf__criterion=gini, clf__max_depth=10, clf__min_samples_leaf=4, total=   0.0s\n",
      "[CV] clf__criterion=gini, clf__max_depth=10, clf__min_samples_leaf=4 .\n",
      "[CV]  clf__criterion=gini, clf__max_depth=10, clf__min_samples_leaf=4, total=   0.0s\n",
      "[CV] clf__criterion=gini, clf__max_depth=10, clf__min_samples_leaf=4 .\n",
      "[CV]  clf__criterion=gini, clf__max_depth=10, clf__min_samples_leaf=4, total=   0.0s\n",
      "[CV] clf__criterion=gini, clf__max_depth=10, clf__min_samples_leaf=5 .\n",
      "[CV]  clf__criterion=gini, clf__max_depth=10, clf__min_samples_leaf=5, total=   0.0s\n",
      "[CV] clf__criterion=gini, clf__max_depth=10, clf__min_samples_leaf=5 .\n",
      "[CV]  clf__criterion=gini, clf__max_depth=10, clf__min_samples_leaf=5, total=   0.0s\n",
      "[CV] clf__criterion=gini, clf__max_depth=10, clf__min_samples_leaf=5 .\n",
      "[CV]  clf__criterion=gini, clf__max_depth=10, clf__min_samples_leaf=5, total=   0.0s\n",
      "[CV] clf__criterion=gini, clf__max_depth=10, clf__min_samples_leaf=5 .\n",
      "[CV]  clf__criterion=gini, clf__max_depth=10, clf__min_samples_leaf=5, total=   0.0s\n",
      "[CV] clf__criterion=gini, clf__max_depth=10, clf__min_samples_leaf=5 .\n",
      "[CV]  clf__criterion=gini, clf__max_depth=10, clf__min_samples_leaf=5, total=   0.0s\n",
      "[CV] clf__criterion=gini, clf__max_depth=10, clf__min_samples_leaf=6 .\n"
     ]
    },
    {
     "name": "stdout",
     "output_type": "stream",
     "text": [
      "[CV]  clf__criterion=gini, clf__max_depth=10, clf__min_samples_leaf=6, total=   0.0s\n",
      "[CV] clf__criterion=gini, clf__max_depth=10, clf__min_samples_leaf=6 .\n",
      "[CV]  clf__criterion=gini, clf__max_depth=10, clf__min_samples_leaf=6, total=   0.0s\n",
      "[CV] clf__criterion=gini, clf__max_depth=10, clf__min_samples_leaf=6 .\n",
      "[CV]  clf__criterion=gini, clf__max_depth=10, clf__min_samples_leaf=6, total=   0.0s\n",
      "[CV] clf__criterion=gini, clf__max_depth=10, clf__min_samples_leaf=6 .\n",
      "[CV]  clf__criterion=gini, clf__max_depth=10, clf__min_samples_leaf=6, total=   0.0s\n",
      "[CV] clf__criterion=gini, clf__max_depth=10, clf__min_samples_leaf=6 .\n",
      "[CV]  clf__criterion=gini, clf__max_depth=10, clf__min_samples_leaf=6, total=   0.0s\n",
      "[CV] clf__criterion=gini, clf__max_depth=11, clf__min_samples_leaf=2 .\n",
      "[CV]  clf__criterion=gini, clf__max_depth=11, clf__min_samples_leaf=2, total=   0.0s\n",
      "[CV] clf__criterion=gini, clf__max_depth=11, clf__min_samples_leaf=2 .\n",
      "[CV]  clf__criterion=gini, clf__max_depth=11, clf__min_samples_leaf=2, total=   0.0s\n",
      "[CV] clf__criterion=gini, clf__max_depth=11, clf__min_samples_leaf=2 .\n",
      "[CV]  clf__criterion=gini, clf__max_depth=11, clf__min_samples_leaf=2, total=   0.0s\n",
      "[CV] clf__criterion=gini, clf__max_depth=11, clf__min_samples_leaf=2 .\n",
      "[CV]  clf__criterion=gini, clf__max_depth=11, clf__min_samples_leaf=2, total=   0.0s\n",
      "[CV] clf__criterion=gini, clf__max_depth=11, clf__min_samples_leaf=2 .\n",
      "[CV]  clf__criterion=gini, clf__max_depth=11, clf__min_samples_leaf=2, total=   0.0s\n",
      "[CV] clf__criterion=gini, clf__max_depth=11, clf__min_samples_leaf=3 .\n",
      "[CV]  clf__criterion=gini, clf__max_depth=11, clf__min_samples_leaf=3, total=   0.0s\n",
      "[CV] clf__criterion=gini, clf__max_depth=11, clf__min_samples_leaf=3 .\n",
      "[CV]  clf__criterion=gini, clf__max_depth=11, clf__min_samples_leaf=3, total=   0.0s\n",
      "[CV] clf__criterion=gini, clf__max_depth=11, clf__min_samples_leaf=3 .\n",
      "[CV]  clf__criterion=gini, clf__max_depth=11, clf__min_samples_leaf=3, total=   0.0s\n",
      "[CV] clf__criterion=gini, clf__max_depth=11, clf__min_samples_leaf=3 .\n",
      "[CV]  clf__criterion=gini, clf__max_depth=11, clf__min_samples_leaf=3, total=   0.0s\n",
      "[CV] clf__criterion=gini, clf__max_depth=11, clf__min_samples_leaf=3 .\n",
      "[CV]  clf__criterion=gini, clf__max_depth=11, clf__min_samples_leaf=3, total=   0.0s\n",
      "[CV] clf__criterion=gini, clf__max_depth=11, clf__min_samples_leaf=4 .\n",
      "[CV]  clf__criterion=gini, clf__max_depth=11, clf__min_samples_leaf=4, total=   0.0s\n",
      "[CV] clf__criterion=gini, clf__max_depth=11, clf__min_samples_leaf=4 .\n",
      "[CV]  clf__criterion=gini, clf__max_depth=11, clf__min_samples_leaf=4, total=   0.0s\n",
      "[CV] clf__criterion=gini, clf__max_depth=11, clf__min_samples_leaf=4 .\n",
      "[CV]  clf__criterion=gini, clf__max_depth=11, clf__min_samples_leaf=4, total=   0.0s\n",
      "[CV] clf__criterion=gini, clf__max_depth=11, clf__min_samples_leaf=4 .\n",
      "[CV]  clf__criterion=gini, clf__max_depth=11, clf__min_samples_leaf=4, total=   0.0s\n",
      "[CV] clf__criterion=gini, clf__max_depth=11, clf__min_samples_leaf=4 .\n",
      "[CV]  clf__criterion=gini, clf__max_depth=11, clf__min_samples_leaf=4, total=   0.0s\n",
      "[CV] clf__criterion=gini, clf__max_depth=11, clf__min_samples_leaf=5 .\n",
      "[CV]  clf__criterion=gini, clf__max_depth=11, clf__min_samples_leaf=5, total=   0.0s\n",
      "[CV] clf__criterion=gini, clf__max_depth=11, clf__min_samples_leaf=5 .\n",
      "[CV]  clf__criterion=gini, clf__max_depth=11, clf__min_samples_leaf=5, total=   0.0s\n",
      "[CV] clf__criterion=gini, clf__max_depth=11, clf__min_samples_leaf=5 .\n",
      "[CV]  clf__criterion=gini, clf__max_depth=11, clf__min_samples_leaf=5, total=   0.0s\n",
      "[CV] clf__criterion=gini, clf__max_depth=11, clf__min_samples_leaf=5 .\n",
      "[CV]  clf__criterion=gini, clf__max_depth=11, clf__min_samples_leaf=5, total=   0.0s\n",
      "[CV] clf__criterion=gini, clf__max_depth=11, clf__min_samples_leaf=5 .\n",
      "[CV]  clf__criterion=gini, clf__max_depth=11, clf__min_samples_leaf=5, total=   0.0s\n",
      "[CV] clf__criterion=gini, clf__max_depth=11, clf__min_samples_leaf=6 .\n",
      "[CV]  clf__criterion=gini, clf__max_depth=11, clf__min_samples_leaf=6, total=   0.0s\n",
      "[CV] clf__criterion=gini, clf__max_depth=11, clf__min_samples_leaf=6 .\n",
      "[CV]  clf__criterion=gini, clf__max_depth=11, clf__min_samples_leaf=6, total=   0.0s\n",
      "[CV] clf__criterion=gini, clf__max_depth=11, clf__min_samples_leaf=6 .\n",
      "[CV]  clf__criterion=gini, clf__max_depth=11, clf__min_samples_leaf=6, total=   0.0s\n",
      "[CV] clf__criterion=gini, clf__max_depth=11, clf__min_samples_leaf=6 .\n",
      "[CV]  clf__criterion=gini, clf__max_depth=11, clf__min_samples_leaf=6, total=   0.0s\n",
      "[CV] clf__criterion=gini, clf__max_depth=11, clf__min_samples_leaf=6 .\n",
      "[CV]  clf__criterion=gini, clf__max_depth=11, clf__min_samples_leaf=6, total=   0.0s\n",
      "[CV] clf__criterion=gini, clf__max_depth=12, clf__min_samples_leaf=2 .\n",
      "[CV]  clf__criterion=gini, clf__max_depth=12, clf__min_samples_leaf=2, total=   0.0s\n",
      "[CV] clf__criterion=gini, clf__max_depth=12, clf__min_samples_leaf=2 .\n",
      "[CV]  clf__criterion=gini, clf__max_depth=12, clf__min_samples_leaf=2, total=   0.0s\n",
      "[CV] clf__criterion=gini, clf__max_depth=12, clf__min_samples_leaf=2 .\n",
      "[CV]  clf__criterion=gini, clf__max_depth=12, clf__min_samples_leaf=2, total=   0.0s\n",
      "[CV] clf__criterion=gini, clf__max_depth=12, clf__min_samples_leaf=2 .\n",
      "[CV]  clf__criterion=gini, clf__max_depth=12, clf__min_samples_leaf=2, total=   0.0s\n",
      "[CV] clf__criterion=gini, clf__max_depth=12, clf__min_samples_leaf=2 .\n",
      "[CV]  clf__criterion=gini, clf__max_depth=12, clf__min_samples_leaf=2, total=   0.0s\n",
      "[CV] clf__criterion=gini, clf__max_depth=12, clf__min_samples_leaf=3 .\n",
      "[CV]  clf__criterion=gini, clf__max_depth=12, clf__min_samples_leaf=3, total=   0.0s\n",
      "[CV] clf__criterion=gini, clf__max_depth=12, clf__min_samples_leaf=3 .\n",
      "[CV]  clf__criterion=gini, clf__max_depth=12, clf__min_samples_leaf=3, total=   0.0s\n",
      "[CV] clf__criterion=gini, clf__max_depth=12, clf__min_samples_leaf=3 .\n",
      "[CV]  clf__criterion=gini, clf__max_depth=12, clf__min_samples_leaf=3, total=   0.0s\n",
      "[CV] clf__criterion=gini, clf__max_depth=12, clf__min_samples_leaf=3 .\n",
      "[CV]  clf__criterion=gini, clf__max_depth=12, clf__min_samples_leaf=3, total=   0.0s\n",
      "[CV] clf__criterion=gini, clf__max_depth=12, clf__min_samples_leaf=3 .\n",
      "[CV]  clf__criterion=gini, clf__max_depth=12, clf__min_samples_leaf=3, total=   0.0s\n",
      "[CV] clf__criterion=gini, clf__max_depth=12, clf__min_samples_leaf=4 .\n",
      "[CV]  clf__criterion=gini, clf__max_depth=12, clf__min_samples_leaf=4, total=   0.0s\n",
      "[CV] clf__criterion=gini, clf__max_depth=12, clf__min_samples_leaf=4 .\n",
      "[CV]  clf__criterion=gini, clf__max_depth=12, clf__min_samples_leaf=4, total=   0.0s\n",
      "[CV] clf__criterion=gini, clf__max_depth=12, clf__min_samples_leaf=4 .\n",
      "[CV]  clf__criterion=gini, clf__max_depth=12, clf__min_samples_leaf=4, total=   0.0s\n",
      "[CV] clf__criterion=gini, clf__max_depth=12, clf__min_samples_leaf=4 .\n",
      "[CV]  clf__criterion=gini, clf__max_depth=12, clf__min_samples_leaf=4, total=   0.0s\n",
      "[CV] clf__criterion=gini, clf__max_depth=12, clf__min_samples_leaf=4 .\n",
      "[CV]  clf__criterion=gini, clf__max_depth=12, clf__min_samples_leaf=4, total=   0.0s\n",
      "[CV] clf__criterion=gini, clf__max_depth=12, clf__min_samples_leaf=5 .\n",
      "[CV]  clf__criterion=gini, clf__max_depth=12, clf__min_samples_leaf=5, total=   0.0s\n",
      "[CV] clf__criterion=gini, clf__max_depth=12, clf__min_samples_leaf=5 .\n",
      "[CV]  clf__criterion=gini, clf__max_depth=12, clf__min_samples_leaf=5, total=   0.0s\n",
      "[CV] clf__criterion=gini, clf__max_depth=12, clf__min_samples_leaf=5 .\n",
      "[CV]  clf__criterion=gini, clf__max_depth=12, clf__min_samples_leaf=5, total=   0.0s\n",
      "[CV] clf__criterion=gini, clf__max_depth=12, clf__min_samples_leaf=5 .\n",
      "[CV]  clf__criterion=gini, clf__max_depth=12, clf__min_samples_leaf=5, total=   0.0s\n",
      "[CV] clf__criterion=gini, clf__max_depth=12, clf__min_samples_leaf=5 .\n",
      "[CV]  clf__criterion=gini, clf__max_depth=12, clf__min_samples_leaf=5, total=   0.0s\n",
      "[CV] clf__criterion=gini, clf__max_depth=12, clf__min_samples_leaf=6 .\n",
      "[CV]  clf__criterion=gini, clf__max_depth=12, clf__min_samples_leaf=6, total=   0.0s\n",
      "[CV] clf__criterion=gini, clf__max_depth=12, clf__min_samples_leaf=6 .\n",
      "[CV]  clf__criterion=gini, clf__max_depth=12, clf__min_samples_leaf=6, total=   0.0s\n",
      "[CV] clf__criterion=gini, clf__max_depth=12, clf__min_samples_leaf=6 .\n",
      "[CV]  clf__criterion=gini, clf__max_depth=12, clf__min_samples_leaf=6, total=   0.0s\n",
      "[CV] clf__criterion=gini, clf__max_depth=12, clf__min_samples_leaf=6 .\n",
      "[CV]  clf__criterion=gini, clf__max_depth=12, clf__min_samples_leaf=6, total=   0.0s\n",
      "[CV] clf__criterion=gini, clf__max_depth=12, clf__min_samples_leaf=6 .\n",
      "[CV]  clf__criterion=gini, clf__max_depth=12, clf__min_samples_leaf=6, total=   0.0s\n",
      "[CV] clf__criterion=gini, clf__max_depth=None, clf__min_samples_leaf=2 \n",
      "[CV]  clf__criterion=gini, clf__max_depth=None, clf__min_samples_leaf=2, total=   0.0s\n",
      "[CV] clf__criterion=gini, clf__max_depth=None, clf__min_samples_leaf=2 \n",
      "[CV]  clf__criterion=gini, clf__max_depth=None, clf__min_samples_leaf=2, total=   0.0s\n",
      "[CV] clf__criterion=gini, clf__max_depth=None, clf__min_samples_leaf=2 \n",
      "[CV]  clf__criterion=gini, clf__max_depth=None, clf__min_samples_leaf=2, total=   0.0s\n",
      "[CV] clf__criterion=gini, clf__max_depth=None, clf__min_samples_leaf=2 \n",
      "[CV]  clf__criterion=gini, clf__max_depth=None, clf__min_samples_leaf=2, total=   0.0s\n",
      "[CV] clf__criterion=gini, clf__max_depth=None, clf__min_samples_leaf=2 \n",
      "[CV]  clf__criterion=gini, clf__max_depth=None, clf__min_samples_leaf=2, total=   0.0s\n",
      "[CV] clf__criterion=gini, clf__max_depth=None, clf__min_samples_leaf=3 \n"
     ]
    },
    {
     "name": "stdout",
     "output_type": "stream",
     "text": [
      "[CV]  clf__criterion=gini, clf__max_depth=None, clf__min_samples_leaf=3, total=   0.0s\n",
      "[CV] clf__criterion=gini, clf__max_depth=None, clf__min_samples_leaf=3 \n",
      "[CV]  clf__criterion=gini, clf__max_depth=None, clf__min_samples_leaf=3, total=   0.0s\n",
      "[CV] clf__criterion=gini, clf__max_depth=None, clf__min_samples_leaf=3 \n",
      "[CV]  clf__criterion=gini, clf__max_depth=None, clf__min_samples_leaf=3, total=   0.0s\n",
      "[CV] clf__criterion=gini, clf__max_depth=None, clf__min_samples_leaf=3 \n",
      "[CV]  clf__criterion=gini, clf__max_depth=None, clf__min_samples_leaf=3, total=   0.0s\n",
      "[CV] clf__criterion=gini, clf__max_depth=None, clf__min_samples_leaf=3 \n",
      "[CV]  clf__criterion=gini, clf__max_depth=None, clf__min_samples_leaf=3, total=   0.0s\n",
      "[CV] clf__criterion=gini, clf__max_depth=None, clf__min_samples_leaf=4 \n",
      "[CV]  clf__criterion=gini, clf__max_depth=None, clf__min_samples_leaf=4, total=   0.0s\n",
      "[CV] clf__criterion=gini, clf__max_depth=None, clf__min_samples_leaf=4 \n",
      "[CV]  clf__criterion=gini, clf__max_depth=None, clf__min_samples_leaf=4, total=   0.0s\n",
      "[CV] clf__criterion=gini, clf__max_depth=None, clf__min_samples_leaf=4 \n",
      "[CV]  clf__criterion=gini, clf__max_depth=None, clf__min_samples_leaf=4, total=   0.0s\n",
      "[CV] clf__criterion=gini, clf__max_depth=None, clf__min_samples_leaf=4 \n",
      "[CV]  clf__criterion=gini, clf__max_depth=None, clf__min_samples_leaf=4, total=   0.0s\n",
      "[CV] clf__criterion=gini, clf__max_depth=None, clf__min_samples_leaf=4 \n",
      "[CV]  clf__criterion=gini, clf__max_depth=None, clf__min_samples_leaf=4, total=   0.0s\n",
      "[CV] clf__criterion=gini, clf__max_depth=None, clf__min_samples_leaf=5 \n",
      "[CV]  clf__criterion=gini, clf__max_depth=None, clf__min_samples_leaf=5, total=   0.0s\n",
      "[CV] clf__criterion=gini, clf__max_depth=None, clf__min_samples_leaf=5 \n",
      "[CV]  clf__criterion=gini, clf__max_depth=None, clf__min_samples_leaf=5, total=   0.0s\n",
      "[CV] clf__criterion=gini, clf__max_depth=None, clf__min_samples_leaf=5 \n",
      "[CV]  clf__criterion=gini, clf__max_depth=None, clf__min_samples_leaf=5, total=   0.0s\n",
      "[CV] clf__criterion=gini, clf__max_depth=None, clf__min_samples_leaf=5 \n",
      "[CV]  clf__criterion=gini, clf__max_depth=None, clf__min_samples_leaf=5, total=   0.0s\n",
      "[CV] clf__criterion=gini, clf__max_depth=None, clf__min_samples_leaf=5 \n",
      "[CV]  clf__criterion=gini, clf__max_depth=None, clf__min_samples_leaf=5, total=   0.0s\n",
      "[CV] clf__criterion=gini, clf__max_depth=None, clf__min_samples_leaf=6 \n",
      "[CV]  clf__criterion=gini, clf__max_depth=None, clf__min_samples_leaf=6, total=   0.0s\n",
      "[CV] clf__criterion=gini, clf__max_depth=None, clf__min_samples_leaf=6 \n",
      "[CV]  clf__criterion=gini, clf__max_depth=None, clf__min_samples_leaf=6, total=   0.0s\n",
      "[CV] clf__criterion=gini, clf__max_depth=None, clf__min_samples_leaf=6 \n",
      "[CV]  clf__criterion=gini, clf__max_depth=None, clf__min_samples_leaf=6, total=   0.0s\n",
      "[CV] clf__criterion=gini, clf__max_depth=None, clf__min_samples_leaf=6 \n",
      "[CV]  clf__criterion=gini, clf__max_depth=None, clf__min_samples_leaf=6, total=   0.0s\n",
      "[CV] clf__criterion=gini, clf__max_depth=None, clf__min_samples_leaf=6 \n",
      "[CV]  clf__criterion=gini, clf__max_depth=None, clf__min_samples_leaf=6, total=   0.0s\n",
      "[CV] clf__criterion=entropy, clf__max_depth=8, clf__min_samples_leaf=2 \n",
      "[CV]  clf__criterion=entropy, clf__max_depth=8, clf__min_samples_leaf=2, total=   0.0s\n",
      "[CV] clf__criterion=entropy, clf__max_depth=8, clf__min_samples_leaf=2 \n",
      "[CV]  clf__criterion=entropy, clf__max_depth=8, clf__min_samples_leaf=2, total=   0.0s\n",
      "[CV] clf__criterion=entropy, clf__max_depth=8, clf__min_samples_leaf=2 \n",
      "[CV]  clf__criterion=entropy, clf__max_depth=8, clf__min_samples_leaf=2, total=   0.0s\n",
      "[CV] clf__criterion=entropy, clf__max_depth=8, clf__min_samples_leaf=2 \n",
      "[CV]  clf__criterion=entropy, clf__max_depth=8, clf__min_samples_leaf=2, total=   0.0s\n",
      "[CV] clf__criterion=entropy, clf__max_depth=8, clf__min_samples_leaf=2 \n",
      "[CV]  clf__criterion=entropy, clf__max_depth=8, clf__min_samples_leaf=2, total=   0.0s\n",
      "[CV] clf__criterion=entropy, clf__max_depth=8, clf__min_samples_leaf=3 \n",
      "[CV]  clf__criterion=entropy, clf__max_depth=8, clf__min_samples_leaf=3, total=   0.0s\n",
      "[CV] clf__criterion=entropy, clf__max_depth=8, clf__min_samples_leaf=3 \n",
      "[CV]  clf__criterion=entropy, clf__max_depth=8, clf__min_samples_leaf=3, total=   0.0s\n",
      "[CV] clf__criterion=entropy, clf__max_depth=8, clf__min_samples_leaf=3 \n",
      "[CV]  clf__criterion=entropy, clf__max_depth=8, clf__min_samples_leaf=3, total=   0.0s\n",
      "[CV] clf__criterion=entropy, clf__max_depth=8, clf__min_samples_leaf=3 \n",
      "[CV]  clf__criterion=entropy, clf__max_depth=8, clf__min_samples_leaf=3, total=   0.0s\n",
      "[CV] clf__criterion=entropy, clf__max_depth=8, clf__min_samples_leaf=3 \n",
      "[CV]  clf__criterion=entropy, clf__max_depth=8, clf__min_samples_leaf=3, total=   0.0s\n",
      "[CV] clf__criterion=entropy, clf__max_depth=8, clf__min_samples_leaf=4 \n",
      "[CV]  clf__criterion=entropy, clf__max_depth=8, clf__min_samples_leaf=4, total=   0.0s\n",
      "[CV] clf__criterion=entropy, clf__max_depth=8, clf__min_samples_leaf=4 \n",
      "[CV]  clf__criterion=entropy, clf__max_depth=8, clf__min_samples_leaf=4, total=   0.0s\n",
      "[CV] clf__criterion=entropy, clf__max_depth=8, clf__min_samples_leaf=4 \n",
      "[CV]  clf__criterion=entropy, clf__max_depth=8, clf__min_samples_leaf=4, total=   0.0s\n",
      "[CV] clf__criterion=entropy, clf__max_depth=8, clf__min_samples_leaf=4 \n",
      "[CV]  clf__criterion=entropy, clf__max_depth=8, clf__min_samples_leaf=4, total=   0.0s\n",
      "[CV] clf__criterion=entropy, clf__max_depth=8, clf__min_samples_leaf=4 \n",
      "[CV]  clf__criterion=entropy, clf__max_depth=8, clf__min_samples_leaf=4, total=   0.0s\n",
      "[CV] clf__criterion=entropy, clf__max_depth=8, clf__min_samples_leaf=5 \n",
      "[CV]  clf__criterion=entropy, clf__max_depth=8, clf__min_samples_leaf=5, total=   0.0s\n",
      "[CV] clf__criterion=entropy, clf__max_depth=8, clf__min_samples_leaf=5 \n",
      "[CV]  clf__criterion=entropy, clf__max_depth=8, clf__min_samples_leaf=5, total=   0.0s\n",
      "[CV] clf__criterion=entropy, clf__max_depth=8, clf__min_samples_leaf=5 \n",
      "[CV]  clf__criterion=entropy, clf__max_depth=8, clf__min_samples_leaf=5, total=   0.0s\n",
      "[CV] clf__criterion=entropy, clf__max_depth=8, clf__min_samples_leaf=5 \n",
      "[CV]  clf__criterion=entropy, clf__max_depth=8, clf__min_samples_leaf=5, total=   0.0s\n",
      "[CV] clf__criterion=entropy, clf__max_depth=8, clf__min_samples_leaf=5 \n",
      "[CV]  clf__criterion=entropy, clf__max_depth=8, clf__min_samples_leaf=5, total=   0.0s\n",
      "[CV] clf__criterion=entropy, clf__max_depth=8, clf__min_samples_leaf=6 \n",
      "[CV]  clf__criterion=entropy, clf__max_depth=8, clf__min_samples_leaf=6, total=   0.0s\n",
      "[CV] clf__criterion=entropy, clf__max_depth=8, clf__min_samples_leaf=6 \n",
      "[CV]  clf__criterion=entropy, clf__max_depth=8, clf__min_samples_leaf=6, total=   0.0s\n",
      "[CV] clf__criterion=entropy, clf__max_depth=8, clf__min_samples_leaf=6 \n",
      "[CV]  clf__criterion=entropy, clf__max_depth=8, clf__min_samples_leaf=6, total=   0.0s\n",
      "[CV] clf__criterion=entropy, clf__max_depth=8, clf__min_samples_leaf=6 \n",
      "[CV]  clf__criterion=entropy, clf__max_depth=8, clf__min_samples_leaf=6, total=   0.0s\n",
      "[CV] clf__criterion=entropy, clf__max_depth=8, clf__min_samples_leaf=6 \n",
      "[CV]  clf__criterion=entropy, clf__max_depth=8, clf__min_samples_leaf=6, total=   0.0s\n",
      "[CV] clf__criterion=entropy, clf__max_depth=9, clf__min_samples_leaf=2 \n",
      "[CV]  clf__criterion=entropy, clf__max_depth=9, clf__min_samples_leaf=2, total=   0.0s\n",
      "[CV] clf__criterion=entropy, clf__max_depth=9, clf__min_samples_leaf=2 \n",
      "[CV]  clf__criterion=entropy, clf__max_depth=9, clf__min_samples_leaf=2, total=   0.0s\n",
      "[CV] clf__criterion=entropy, clf__max_depth=9, clf__min_samples_leaf=2 \n",
      "[CV]  clf__criterion=entropy, clf__max_depth=9, clf__min_samples_leaf=2, total=   0.0s\n",
      "[CV] clf__criterion=entropy, clf__max_depth=9, clf__min_samples_leaf=2 \n",
      "[CV]  clf__criterion=entropy, clf__max_depth=9, clf__min_samples_leaf=2, total=   0.0s\n",
      "[CV] clf__criterion=entropy, clf__max_depth=9, clf__min_samples_leaf=2 \n",
      "[CV]  clf__criterion=entropy, clf__max_depth=9, clf__min_samples_leaf=2, total=   0.0s\n",
      "[CV] clf__criterion=entropy, clf__max_depth=9, clf__min_samples_leaf=3 \n",
      "[CV]  clf__criterion=entropy, clf__max_depth=9, clf__min_samples_leaf=3, total=   0.0s\n",
      "[CV] clf__criterion=entropy, clf__max_depth=9, clf__min_samples_leaf=3 \n",
      "[CV]  clf__criterion=entropy, clf__max_depth=9, clf__min_samples_leaf=3, total=   0.0s\n",
      "[CV] clf__criterion=entropy, clf__max_depth=9, clf__min_samples_leaf=3 \n",
      "[CV]  clf__criterion=entropy, clf__max_depth=9, clf__min_samples_leaf=3, total=   0.0s\n",
      "[CV] clf__criterion=entropy, clf__max_depth=9, clf__min_samples_leaf=3 \n",
      "[CV]  clf__criterion=entropy, clf__max_depth=9, clf__min_samples_leaf=3, total=   0.0s\n",
      "[CV] clf__criterion=entropy, clf__max_depth=9, clf__min_samples_leaf=3 \n",
      "[CV]  clf__criterion=entropy, clf__max_depth=9, clf__min_samples_leaf=3, total=   0.0s\n",
      "[CV] clf__criterion=entropy, clf__max_depth=9, clf__min_samples_leaf=4 \n",
      "[CV]  clf__criterion=entropy, clf__max_depth=9, clf__min_samples_leaf=4, total=   0.0s\n",
      "[CV] clf__criterion=entropy, clf__max_depth=9, clf__min_samples_leaf=4 \n",
      "[CV]  clf__criterion=entropy, clf__max_depth=9, clf__min_samples_leaf=4, total=   0.0s\n",
      "[CV] clf__criterion=entropy, clf__max_depth=9, clf__min_samples_leaf=4 \n",
      "[CV]  clf__criterion=entropy, clf__max_depth=9, clf__min_samples_leaf=4, total=   0.0s\n",
      "[CV] clf__criterion=entropy, clf__max_depth=9, clf__min_samples_leaf=4 \n"
     ]
    },
    {
     "name": "stdout",
     "output_type": "stream",
     "text": [
      "[CV]  clf__criterion=entropy, clf__max_depth=9, clf__min_samples_leaf=4, total=   0.0s\n",
      "[CV] clf__criterion=entropy, clf__max_depth=9, clf__min_samples_leaf=4 \n",
      "[CV]  clf__criterion=entropy, clf__max_depth=9, clf__min_samples_leaf=4, total=   0.0s\n",
      "[CV] clf__criterion=entropy, clf__max_depth=9, clf__min_samples_leaf=5 \n",
      "[CV]  clf__criterion=entropy, clf__max_depth=9, clf__min_samples_leaf=5, total=   0.0s\n",
      "[CV] clf__criterion=entropy, clf__max_depth=9, clf__min_samples_leaf=5 \n",
      "[CV]  clf__criterion=entropy, clf__max_depth=9, clf__min_samples_leaf=5, total=   0.0s\n",
      "[CV] clf__criterion=entropy, clf__max_depth=9, clf__min_samples_leaf=5 \n",
      "[CV]  clf__criterion=entropy, clf__max_depth=9, clf__min_samples_leaf=5, total=   0.0s\n",
      "[CV] clf__criterion=entropy, clf__max_depth=9, clf__min_samples_leaf=5 \n",
      "[CV]  clf__criterion=entropy, clf__max_depth=9, clf__min_samples_leaf=5, total=   0.0s\n",
      "[CV] clf__criterion=entropy, clf__max_depth=9, clf__min_samples_leaf=5 \n",
      "[CV]  clf__criterion=entropy, clf__max_depth=9, clf__min_samples_leaf=5, total=   0.0s\n",
      "[CV] clf__criterion=entropy, clf__max_depth=9, clf__min_samples_leaf=6 \n",
      "[CV]  clf__criterion=entropy, clf__max_depth=9, clf__min_samples_leaf=6, total=   0.0s\n",
      "[CV] clf__criterion=entropy, clf__max_depth=9, clf__min_samples_leaf=6 \n",
      "[CV]  clf__criterion=entropy, clf__max_depth=9, clf__min_samples_leaf=6, total=   0.0s\n",
      "[CV] clf__criterion=entropy, clf__max_depth=9, clf__min_samples_leaf=6 \n",
      "[CV]  clf__criterion=entropy, clf__max_depth=9, clf__min_samples_leaf=6, total=   0.0s\n",
      "[CV] clf__criterion=entropy, clf__max_depth=9, clf__min_samples_leaf=6 \n",
      "[CV]  clf__criterion=entropy, clf__max_depth=9, clf__min_samples_leaf=6, total=   0.0s\n",
      "[CV] clf__criterion=entropy, clf__max_depth=9, clf__min_samples_leaf=6 \n",
      "[CV]  clf__criterion=entropy, clf__max_depth=9, clf__min_samples_leaf=6, total=   0.0s\n",
      "[CV] clf__criterion=entropy, clf__max_depth=10, clf__min_samples_leaf=2 \n",
      "[CV]  clf__criterion=entropy, clf__max_depth=10, clf__min_samples_leaf=2, total=   0.0s\n",
      "[CV] clf__criterion=entropy, clf__max_depth=10, clf__min_samples_leaf=2 \n",
      "[CV]  clf__criterion=entropy, clf__max_depth=10, clf__min_samples_leaf=2, total=   0.0s\n",
      "[CV] clf__criterion=entropy, clf__max_depth=10, clf__min_samples_leaf=2 \n",
      "[CV]  clf__criterion=entropy, clf__max_depth=10, clf__min_samples_leaf=2, total=   0.0s\n",
      "[CV] clf__criterion=entropy, clf__max_depth=10, clf__min_samples_leaf=2 \n",
      "[CV]  clf__criterion=entropy, clf__max_depth=10, clf__min_samples_leaf=2, total=   0.0s\n",
      "[CV] clf__criterion=entropy, clf__max_depth=10, clf__min_samples_leaf=2 \n",
      "[CV]  clf__criterion=entropy, clf__max_depth=10, clf__min_samples_leaf=2, total=   0.0s\n",
      "[CV] clf__criterion=entropy, clf__max_depth=10, clf__min_samples_leaf=3 \n",
      "[CV]  clf__criterion=entropy, clf__max_depth=10, clf__min_samples_leaf=3, total=   0.0s\n",
      "[CV] clf__criterion=entropy, clf__max_depth=10, clf__min_samples_leaf=3 \n",
      "[CV]  clf__criterion=entropy, clf__max_depth=10, clf__min_samples_leaf=3, total=   0.0s\n",
      "[CV] clf__criterion=entropy, clf__max_depth=10, clf__min_samples_leaf=3 \n",
      "[CV]  clf__criterion=entropy, clf__max_depth=10, clf__min_samples_leaf=3, total=   0.0s\n",
      "[CV] clf__criterion=entropy, clf__max_depth=10, clf__min_samples_leaf=3 \n",
      "[CV]  clf__criterion=entropy, clf__max_depth=10, clf__min_samples_leaf=3, total=   0.0s\n",
      "[CV] clf__criterion=entropy, clf__max_depth=10, clf__min_samples_leaf=3 \n",
      "[CV]  clf__criterion=entropy, clf__max_depth=10, clf__min_samples_leaf=3, total=   0.0s\n",
      "[CV] clf__criterion=entropy, clf__max_depth=10, clf__min_samples_leaf=4 \n",
      "[CV]  clf__criterion=entropy, clf__max_depth=10, clf__min_samples_leaf=4, total=   0.0s\n",
      "[CV] clf__criterion=entropy, clf__max_depth=10, clf__min_samples_leaf=4 \n",
      "[CV]  clf__criterion=entropy, clf__max_depth=10, clf__min_samples_leaf=4, total=   0.0s\n",
      "[CV] clf__criterion=entropy, clf__max_depth=10, clf__min_samples_leaf=4 \n",
      "[CV]  clf__criterion=entropy, clf__max_depth=10, clf__min_samples_leaf=4, total=   0.0s\n",
      "[CV] clf__criterion=entropy, clf__max_depth=10, clf__min_samples_leaf=4 \n",
      "[CV]  clf__criterion=entropy, clf__max_depth=10, clf__min_samples_leaf=4, total=   0.0s\n",
      "[CV] clf__criterion=entropy, clf__max_depth=10, clf__min_samples_leaf=4 \n",
      "[CV]  clf__criterion=entropy, clf__max_depth=10, clf__min_samples_leaf=4, total=   0.0s\n",
      "[CV] clf__criterion=entropy, clf__max_depth=10, clf__min_samples_leaf=5 \n",
      "[CV]  clf__criterion=entropy, clf__max_depth=10, clf__min_samples_leaf=5, total=   0.0s\n",
      "[CV] clf__criterion=entropy, clf__max_depth=10, clf__min_samples_leaf=5 \n",
      "[CV]  clf__criterion=entropy, clf__max_depth=10, clf__min_samples_leaf=5, total=   0.0s\n",
      "[CV] clf__criterion=entropy, clf__max_depth=10, clf__min_samples_leaf=5 \n",
      "[CV]  clf__criterion=entropy, clf__max_depth=10, clf__min_samples_leaf=5, total=   0.0s\n",
      "[CV] clf__criterion=entropy, clf__max_depth=10, clf__min_samples_leaf=5 \n",
      "[CV]  clf__criterion=entropy, clf__max_depth=10, clf__min_samples_leaf=5, total=   0.0s\n",
      "[CV] clf__criterion=entropy, clf__max_depth=10, clf__min_samples_leaf=5 \n",
      "[CV]  clf__criterion=entropy, clf__max_depth=10, clf__min_samples_leaf=5, total=   0.0s\n",
      "[CV] clf__criterion=entropy, clf__max_depth=10, clf__min_samples_leaf=6 \n",
      "[CV]  clf__criterion=entropy, clf__max_depth=10, clf__min_samples_leaf=6, total=   0.0s\n",
      "[CV] clf__criterion=entropy, clf__max_depth=10, clf__min_samples_leaf=6 \n",
      "[CV]  clf__criterion=entropy, clf__max_depth=10, clf__min_samples_leaf=6, total=   0.0s\n",
      "[CV] clf__criterion=entropy, clf__max_depth=10, clf__min_samples_leaf=6 \n",
      "[CV]  clf__criterion=entropy, clf__max_depth=10, clf__min_samples_leaf=6, total=   0.0s\n",
      "[CV] clf__criterion=entropy, clf__max_depth=10, clf__min_samples_leaf=6 \n",
      "[CV]  clf__criterion=entropy, clf__max_depth=10, clf__min_samples_leaf=6, total=   0.0s\n",
      "[CV] clf__criterion=entropy, clf__max_depth=10, clf__min_samples_leaf=6 \n",
      "[CV]  clf__criterion=entropy, clf__max_depth=10, clf__min_samples_leaf=6, total=   0.0s\n",
      "[CV] clf__criterion=entropy, clf__max_depth=11, clf__min_samples_leaf=2 \n",
      "[CV]  clf__criterion=entropy, clf__max_depth=11, clf__min_samples_leaf=2, total=   0.0s\n",
      "[CV] clf__criterion=entropy, clf__max_depth=11, clf__min_samples_leaf=2 \n",
      "[CV]  clf__criterion=entropy, clf__max_depth=11, clf__min_samples_leaf=2, total=   0.0s\n",
      "[CV] clf__criterion=entropy, clf__max_depth=11, clf__min_samples_leaf=2 \n",
      "[CV]  clf__criterion=entropy, clf__max_depth=11, clf__min_samples_leaf=2, total=   0.0s\n",
      "[CV] clf__criterion=entropy, clf__max_depth=11, clf__min_samples_leaf=2 \n",
      "[CV]  clf__criterion=entropy, clf__max_depth=11, clf__min_samples_leaf=2, total=   0.0s\n",
      "[CV] clf__criterion=entropy, clf__max_depth=11, clf__min_samples_leaf=2 \n",
      "[CV]  clf__criterion=entropy, clf__max_depth=11, clf__min_samples_leaf=2, total=   0.0s\n",
      "[CV] clf__criterion=entropy, clf__max_depth=11, clf__min_samples_leaf=3 \n",
      "[CV]  clf__criterion=entropy, clf__max_depth=11, clf__min_samples_leaf=3, total=   0.0s\n",
      "[CV] clf__criterion=entropy, clf__max_depth=11, clf__min_samples_leaf=3 \n",
      "[CV]  clf__criterion=entropy, clf__max_depth=11, clf__min_samples_leaf=3, total=   0.0s\n",
      "[CV] clf__criterion=entropy, clf__max_depth=11, clf__min_samples_leaf=3 \n",
      "[CV]  clf__criterion=entropy, clf__max_depth=11, clf__min_samples_leaf=3, total=   0.0s\n",
      "[CV] clf__criterion=entropy, clf__max_depth=11, clf__min_samples_leaf=3 \n",
      "[CV]  clf__criterion=entropy, clf__max_depth=11, clf__min_samples_leaf=3, total=   0.0s\n",
      "[CV] clf__criterion=entropy, clf__max_depth=11, clf__min_samples_leaf=3 \n",
      "[CV]  clf__criterion=entropy, clf__max_depth=11, clf__min_samples_leaf=3, total=   0.0s\n",
      "[CV] clf__criterion=entropy, clf__max_depth=11, clf__min_samples_leaf=4 \n",
      "[CV]  clf__criterion=entropy, clf__max_depth=11, clf__min_samples_leaf=4, total=   0.0s\n",
      "[CV] clf__criterion=entropy, clf__max_depth=11, clf__min_samples_leaf=4 \n",
      "[CV]  clf__criterion=entropy, clf__max_depth=11, clf__min_samples_leaf=4, total=   0.0s\n",
      "[CV] clf__criterion=entropy, clf__max_depth=11, clf__min_samples_leaf=4 \n",
      "[CV]  clf__criterion=entropy, clf__max_depth=11, clf__min_samples_leaf=4, total=   0.0s\n",
      "[CV] clf__criterion=entropy, clf__max_depth=11, clf__min_samples_leaf=4 \n",
      "[CV]  clf__criterion=entropy, clf__max_depth=11, clf__min_samples_leaf=4, total=   0.0s\n",
      "[CV] clf__criterion=entropy, clf__max_depth=11, clf__min_samples_leaf=4 \n",
      "[CV]  clf__criterion=entropy, clf__max_depth=11, clf__min_samples_leaf=4, total=   0.0s\n",
      "[CV] clf__criterion=entropy, clf__max_depth=11, clf__min_samples_leaf=5 \n",
      "[CV]  clf__criterion=entropy, clf__max_depth=11, clf__min_samples_leaf=5, total=   0.0s\n",
      "[CV] clf__criterion=entropy, clf__max_depth=11, clf__min_samples_leaf=5 \n",
      "[CV]  clf__criterion=entropy, clf__max_depth=11, clf__min_samples_leaf=5, total=   0.0s\n",
      "[CV] clf__criterion=entropy, clf__max_depth=11, clf__min_samples_leaf=5 \n",
      "[CV]  clf__criterion=entropy, clf__max_depth=11, clf__min_samples_leaf=5, total=   0.0s\n",
      "[CV] clf__criterion=entropy, clf__max_depth=11, clf__min_samples_leaf=5 \n",
      "[CV]  clf__criterion=entropy, clf__max_depth=11, clf__min_samples_leaf=5, total=   0.0s\n",
      "[CV] clf__criterion=entropy, clf__max_depth=11, clf__min_samples_leaf=5 \n",
      "[CV]  clf__criterion=entropy, clf__max_depth=11, clf__min_samples_leaf=5, total=   0.0s\n",
      "[CV] clf__criterion=entropy, clf__max_depth=11, clf__min_samples_leaf=6 \n",
      "[CV]  clf__criterion=entropy, clf__max_depth=11, clf__min_samples_leaf=6, total=   0.0s\n",
      "[CV] clf__criterion=entropy, clf__max_depth=11, clf__min_samples_leaf=6 \n"
     ]
    },
    {
     "name": "stdout",
     "output_type": "stream",
     "text": [
      "[CV]  clf__criterion=entropy, clf__max_depth=11, clf__min_samples_leaf=6, total=   0.0s\n",
      "[CV] clf__criterion=entropy, clf__max_depth=11, clf__min_samples_leaf=6 \n",
      "[CV]  clf__criterion=entropy, clf__max_depth=11, clf__min_samples_leaf=6, total=   0.0s\n",
      "[CV] clf__criterion=entropy, clf__max_depth=11, clf__min_samples_leaf=6 \n",
      "[CV]  clf__criterion=entropy, clf__max_depth=11, clf__min_samples_leaf=6, total=   0.0s\n",
      "[CV] clf__criterion=entropy, clf__max_depth=11, clf__min_samples_leaf=6 \n",
      "[CV]  clf__criterion=entropy, clf__max_depth=11, clf__min_samples_leaf=6, total=   0.0s\n",
      "[CV] clf__criterion=entropy, clf__max_depth=12, clf__min_samples_leaf=2 \n",
      "[CV]  clf__criterion=entropy, clf__max_depth=12, clf__min_samples_leaf=2, total=   0.0s\n",
      "[CV] clf__criterion=entropy, clf__max_depth=12, clf__min_samples_leaf=2 \n",
      "[CV]  clf__criterion=entropy, clf__max_depth=12, clf__min_samples_leaf=2, total=   0.0s\n",
      "[CV] clf__criterion=entropy, clf__max_depth=12, clf__min_samples_leaf=2 \n",
      "[CV]  clf__criterion=entropy, clf__max_depth=12, clf__min_samples_leaf=2, total=   0.0s\n",
      "[CV] clf__criterion=entropy, clf__max_depth=12, clf__min_samples_leaf=2 \n",
      "[CV]  clf__criterion=entropy, clf__max_depth=12, clf__min_samples_leaf=2, total=   0.0s\n",
      "[CV] clf__criterion=entropy, clf__max_depth=12, clf__min_samples_leaf=2 \n",
      "[CV]  clf__criterion=entropy, clf__max_depth=12, clf__min_samples_leaf=2, total=   0.0s\n",
      "[CV] clf__criterion=entropy, clf__max_depth=12, clf__min_samples_leaf=3 \n",
      "[CV]  clf__criterion=entropy, clf__max_depth=12, clf__min_samples_leaf=3, total=   0.0s\n",
      "[CV] clf__criterion=entropy, clf__max_depth=12, clf__min_samples_leaf=3 \n",
      "[CV]  clf__criterion=entropy, clf__max_depth=12, clf__min_samples_leaf=3, total=   0.0s\n",
      "[CV] clf__criterion=entropy, clf__max_depth=12, clf__min_samples_leaf=3 \n",
      "[CV]  clf__criterion=entropy, clf__max_depth=12, clf__min_samples_leaf=3, total=   0.0s\n",
      "[CV] clf__criterion=entropy, clf__max_depth=12, clf__min_samples_leaf=3 \n",
      "[CV]  clf__criterion=entropy, clf__max_depth=12, clf__min_samples_leaf=3, total=   0.0s\n",
      "[CV] clf__criterion=entropy, clf__max_depth=12, clf__min_samples_leaf=3 \n",
      "[CV]  clf__criterion=entropy, clf__max_depth=12, clf__min_samples_leaf=3, total=   0.0s\n",
      "[CV] clf__criterion=entropy, clf__max_depth=12, clf__min_samples_leaf=4 \n",
      "[CV]  clf__criterion=entropy, clf__max_depth=12, clf__min_samples_leaf=4, total=   0.0s\n",
      "[CV] clf__criterion=entropy, clf__max_depth=12, clf__min_samples_leaf=4 \n",
      "[CV]  clf__criterion=entropy, clf__max_depth=12, clf__min_samples_leaf=4, total=   0.0s\n",
      "[CV] clf__criterion=entropy, clf__max_depth=12, clf__min_samples_leaf=4 \n",
      "[CV]  clf__criterion=entropy, clf__max_depth=12, clf__min_samples_leaf=4, total=   0.0s\n",
      "[CV] clf__criterion=entropy, clf__max_depth=12, clf__min_samples_leaf=4 \n",
      "[CV]  clf__criterion=entropy, clf__max_depth=12, clf__min_samples_leaf=4, total=   0.0s\n",
      "[CV] clf__criterion=entropy, clf__max_depth=12, clf__min_samples_leaf=4 \n",
      "[CV]  clf__criterion=entropy, clf__max_depth=12, clf__min_samples_leaf=4, total=   0.0s\n",
      "[CV] clf__criterion=entropy, clf__max_depth=12, clf__min_samples_leaf=5 \n",
      "[CV]  clf__criterion=entropy, clf__max_depth=12, clf__min_samples_leaf=5, total=   0.0s\n",
      "[CV] clf__criterion=entropy, clf__max_depth=12, clf__min_samples_leaf=5 \n",
      "[CV]  clf__criterion=entropy, clf__max_depth=12, clf__min_samples_leaf=5, total=   0.0s\n",
      "[CV] clf__criterion=entropy, clf__max_depth=12, clf__min_samples_leaf=5 \n",
      "[CV]  clf__criterion=entropy, clf__max_depth=12, clf__min_samples_leaf=5, total=   0.0s\n",
      "[CV] clf__criterion=entropy, clf__max_depth=12, clf__min_samples_leaf=5 \n",
      "[CV]  clf__criterion=entropy, clf__max_depth=12, clf__min_samples_leaf=5, total=   0.0s\n",
      "[CV] clf__criterion=entropy, clf__max_depth=12, clf__min_samples_leaf=5 \n",
      "[CV]  clf__criterion=entropy, clf__max_depth=12, clf__min_samples_leaf=5, total=   0.0s\n",
      "[CV] clf__criterion=entropy, clf__max_depth=12, clf__min_samples_leaf=6 \n",
      "[CV]  clf__criterion=entropy, clf__max_depth=12, clf__min_samples_leaf=6, total=   0.0s\n",
      "[CV] clf__criterion=entropy, clf__max_depth=12, clf__min_samples_leaf=6 \n",
      "[CV]  clf__criterion=entropy, clf__max_depth=12, clf__min_samples_leaf=6, total=   0.0s\n",
      "[CV] clf__criterion=entropy, clf__max_depth=12, clf__min_samples_leaf=6 \n",
      "[CV]  clf__criterion=entropy, clf__max_depth=12, clf__min_samples_leaf=6, total=   0.0s\n",
      "[CV] clf__criterion=entropy, clf__max_depth=12, clf__min_samples_leaf=6 \n",
      "[CV]  clf__criterion=entropy, clf__max_depth=12, clf__min_samples_leaf=6, total=   0.0s\n",
      "[CV] clf__criterion=entropy, clf__max_depth=12, clf__min_samples_leaf=6 \n",
      "[CV]  clf__criterion=entropy, clf__max_depth=12, clf__min_samples_leaf=6, total=   0.0s\n",
      "[CV] clf__criterion=entropy, clf__max_depth=None, clf__min_samples_leaf=2 \n",
      "[CV]  clf__criterion=entropy, clf__max_depth=None, clf__min_samples_leaf=2, total=   0.0s\n",
      "[CV] clf__criterion=entropy, clf__max_depth=None, clf__min_samples_leaf=2 \n",
      "[CV]  clf__criterion=entropy, clf__max_depth=None, clf__min_samples_leaf=2, total=   0.0s\n",
      "[CV] clf__criterion=entropy, clf__max_depth=None, clf__min_samples_leaf=2 \n",
      "[CV]  clf__criterion=entropy, clf__max_depth=None, clf__min_samples_leaf=2, total=   0.0s\n",
      "[CV] clf__criterion=entropy, clf__max_depth=None, clf__min_samples_leaf=2 \n",
      "[CV]  clf__criterion=entropy, clf__max_depth=None, clf__min_samples_leaf=2, total=   0.0s\n",
      "[CV] clf__criterion=entropy, clf__max_depth=None, clf__min_samples_leaf=2 \n",
      "[CV]  clf__criterion=entropy, clf__max_depth=None, clf__min_samples_leaf=2, total=   0.0s\n",
      "[CV] clf__criterion=entropy, clf__max_depth=None, clf__min_samples_leaf=3 \n",
      "[CV]  clf__criterion=entropy, clf__max_depth=None, clf__min_samples_leaf=3, total=   0.0s\n",
      "[CV] clf__criterion=entropy, clf__max_depth=None, clf__min_samples_leaf=3 \n",
      "[CV]  clf__criterion=entropy, clf__max_depth=None, clf__min_samples_leaf=3, total=   0.0s\n",
      "[CV] clf__criterion=entropy, clf__max_depth=None, clf__min_samples_leaf=3 \n",
      "[CV]  clf__criterion=entropy, clf__max_depth=None, clf__min_samples_leaf=3, total=   0.0s\n",
      "[CV] clf__criterion=entropy, clf__max_depth=None, clf__min_samples_leaf=3 \n",
      "[CV]  clf__criterion=entropy, clf__max_depth=None, clf__min_samples_leaf=3, total=   0.0s\n",
      "[CV] clf__criterion=entropy, clf__max_depth=None, clf__min_samples_leaf=3 \n",
      "[CV]  clf__criterion=entropy, clf__max_depth=None, clf__min_samples_leaf=3, total=   0.0s\n",
      "[CV] clf__criterion=entropy, clf__max_depth=None, clf__min_samples_leaf=4 \n",
      "[CV]  clf__criterion=entropy, clf__max_depth=None, clf__min_samples_leaf=4, total=   0.0s\n",
      "[CV] clf__criterion=entropy, clf__max_depth=None, clf__min_samples_leaf=4 \n",
      "[CV]  clf__criterion=entropy, clf__max_depth=None, clf__min_samples_leaf=4, total=   0.0s\n",
      "[CV] clf__criterion=entropy, clf__max_depth=None, clf__min_samples_leaf=4 \n",
      "[CV]  clf__criterion=entropy, clf__max_depth=None, clf__min_samples_leaf=4, total=   0.0s\n",
      "[CV] clf__criterion=entropy, clf__max_depth=None, clf__min_samples_leaf=4 \n",
      "[CV]  clf__criterion=entropy, clf__max_depth=None, clf__min_samples_leaf=4, total=   0.0s\n",
      "[CV] clf__criterion=entropy, clf__max_depth=None, clf__min_samples_leaf=4 \n",
      "[CV]  clf__criterion=entropy, clf__max_depth=None, clf__min_samples_leaf=4, total=   0.0s\n",
      "[CV] clf__criterion=entropy, clf__max_depth=None, clf__min_samples_leaf=5 \n",
      "[CV]  clf__criterion=entropy, clf__max_depth=None, clf__min_samples_leaf=5, total=   0.0s\n",
      "[CV] clf__criterion=entropy, clf__max_depth=None, clf__min_samples_leaf=5 \n",
      "[CV]  clf__criterion=entropy, clf__max_depth=None, clf__min_samples_leaf=5, total=   0.0s\n",
      "[CV] clf__criterion=entropy, clf__max_depth=None, clf__min_samples_leaf=5 \n",
      "[CV]  clf__criterion=entropy, clf__max_depth=None, clf__min_samples_leaf=5, total=   0.0s\n",
      "[CV] clf__criterion=entropy, clf__max_depth=None, clf__min_samples_leaf=5 \n",
      "[CV]  clf__criterion=entropy, clf__max_depth=None, clf__min_samples_leaf=5, total=   0.0s\n",
      "[CV] clf__criterion=entropy, clf__max_depth=None, clf__min_samples_leaf=5 \n",
      "[CV]  clf__criterion=entropy, clf__max_depth=None, clf__min_samples_leaf=5, total=   0.0s\n",
      "[CV] clf__criterion=entropy, clf__max_depth=None, clf__min_samples_leaf=6 \n",
      "[CV]  clf__criterion=entropy, clf__max_depth=None, clf__min_samples_leaf=6, total=   0.0s\n",
      "[CV] clf__criterion=entropy, clf__max_depth=None, clf__min_samples_leaf=6 \n",
      "[CV]  clf__criterion=entropy, clf__max_depth=None, clf__min_samples_leaf=6, total=   0.0s\n",
      "[CV] clf__criterion=entropy, clf__max_depth=None, clf__min_samples_leaf=6 \n",
      "[CV]  clf__criterion=entropy, clf__max_depth=None, clf__min_samples_leaf=6, total=   0.0s\n",
      "[CV] clf__criterion=entropy, clf__max_depth=None, clf__min_samples_leaf=6 \n",
      "[CV]  clf__criterion=entropy, clf__max_depth=None, clf__min_samples_leaf=6, total=   0.0s\n",
      "[CV] clf__criterion=entropy, clf__max_depth=None, clf__min_samples_leaf=6 \n",
      "[CV]  clf__criterion=entropy, clf__max_depth=None, clf__min_samples_leaf=6, total=   0.0s\n"
     ]
    },
    {
     "name": "stderr",
     "output_type": "stream",
     "text": [
      "[Parallel(n_jobs=-1)]: Done 300 out of 300 | elapsed:    6.4s finished\n"
     ]
    },
    {
     "data": {
      "text/plain": [
       "GridSearchCV(cv=5, error_score='raise',\n",
       "       estimator=Pipeline(steps=[('scaler1', StandardScaler(copy=True, with_mean=True, with_std=True)), ('pca', PCA(copy=True, iterated_power='auto', n_components=5, random_state=None,\n",
       "  svd_solver='auto', tol=0.0, whiten=False)), ('scaler2', StandardScaler(copy=True, with_mean=True, with_std=True)), ('clf', DecisionTreeClas...it=2, min_weight_fraction_leaf=0.0,\n",
       "            presort=False, random_state=None, splitter='best'))]),\n",
       "       fit_params={}, iid=True, n_jobs=-1,\n",
       "       param_grid={'clf__criterion': ('gini', 'entropy'), 'clf__max_depth': (8, 9, 10, 11, 12, None), 'clf__min_samples_leaf': (2, 3, 4, 5, 6)},\n",
       "       pre_dispatch='2*n_jobs', refit=True, return_train_score=True,\n",
       "       scoring=None, verbose=2)"
      ]
     },
     "execution_count": 33,
     "metadata": {},
     "output_type": "execute_result"
    }
   ],
   "source": [
    "gs_dtc.fit(X_tr_tc, y_train)"
   ]
  },
  {
   "cell_type": "code",
   "execution_count": 35,
   "metadata": {},
   "outputs": [
    {
     "data": {
      "text/plain": [
       "0.80900000000000005"
      ]
     },
     "execution_count": 35,
     "metadata": {},
     "output_type": "execute_result"
    }
   ],
   "source": [
    "gs_dtc.best_score_"
   ]
  },
  {
   "cell_type": "code",
   "execution_count": 36,
   "metadata": {},
   "outputs": [
    {
     "data": {
      "text/plain": [
       "{'clf__criterion': 'gini', 'clf__max_depth': 12, 'clf__min_samples_leaf': 2}"
      ]
     },
     "execution_count": 36,
     "metadata": {},
     "output_type": "execute_result"
    }
   ],
   "source": [
    "gs_dtc.best_params_"
   ]
  },
  {
   "cell_type": "code",
   "execution_count": 37,
   "metadata": {
    "scrolled": false
   },
   "outputs": [
    {
     "data": {
      "text/plain": [
       "0.80000000000000004"
      ]
     },
     "execution_count": 37,
     "metadata": {},
     "output_type": "execute_result"
    }
   ],
   "source": [
    "gs_dtc.score(X_ts_tc, y_test)"
   ]
  },
  {
   "cell_type": "markdown",
   "metadata": {},
   "source": [
    "# Decision Tree Scaling Only"
   ]
  },
  {
   "cell_type": "code",
   "execution_count": 77,
   "metadata": {},
   "outputs": [],
   "source": [
    "dtc_pipe = Pipeline([\n",
    "    ('scaler', StandardScaler()),\n",
    "    ('clf', DecisionTreeClassifier(criterion='gini'))\n",
    "])"
   ]
  },
  {
   "cell_type": "code",
   "execution_count": 78,
   "metadata": {},
   "outputs": [],
   "source": [
    "dtc_params = {'clf__max_depth':(8, 9, 10, 11, 12, None), \n",
    "              'clf__min_samples_leaf':(2,3,4,5,6)}"
   ]
  },
  {
   "cell_type": "code",
   "execution_count": 79,
   "metadata": {},
   "outputs": [],
   "source": [
    "gs_dtc = GridSearchCV(dtc_pipe, dtc_params, cv=5, n_jobs=-1, verbose=1)"
   ]
  },
  {
   "cell_type": "code",
   "execution_count": 80,
   "metadata": {},
   "outputs": [
    {
     "name": "stdout",
     "output_type": "stream",
     "text": [
      "Fitting 5 folds for each of 30 candidates, totalling 150 fits\n"
     ]
    },
    {
     "name": "stderr",
     "output_type": "stream",
     "text": [
      "[Parallel(n_jobs=-1)]: Done 150 out of 150 | elapsed:    3.4s finished\n"
     ]
    },
    {
     "data": {
      "text/plain": [
       "GridSearchCV(cv=5, error_score='raise',\n",
       "       estimator=Pipeline(steps=[('scaler', StandardScaler(copy=True, with_mean=True, with_std=True)), ('clf', DecisionTreeClassifier(class_weight=None, criterion='gini', max_depth=None,\n",
       "            max_features=None, max_leaf_nodes=None,\n",
       "            min_impurity_split=1e-07, min_samples_leaf=1,\n",
       "            min_samples_split=2, min_weight_fraction_leaf=0.0,\n",
       "            presort=False, random_state=None, splitter='best'))]),\n",
       "       fit_params={}, iid=True, n_jobs=-1,\n",
       "       param_grid={'clf__max_depth': (8, 9, 10, 11, 12, None), 'clf__min_samples_leaf': (2, 3, 4, 5, 6)},\n",
       "       pre_dispatch='2*n_jobs', refit=True, return_train_score=True,\n",
       "       scoring=None, verbose=1)"
      ]
     },
     "execution_count": 80,
     "metadata": {},
     "output_type": "execute_result"
    }
   ],
   "source": [
    "gs_dtc.fit(X_tr_tc, y_train)"
   ]
  },
  {
   "cell_type": "code",
   "execution_count": 81,
   "metadata": {},
   "outputs": [
    {
     "data": {
      "text/plain": [
       "0.82350000000000001"
      ]
     },
     "execution_count": 81,
     "metadata": {},
     "output_type": "execute_result"
    }
   ],
   "source": [
    "gs_dtc.best_score_"
   ]
  },
  {
   "cell_type": "code",
   "execution_count": 82,
   "metadata": {},
   "outputs": [
    {
     "data": {
      "text/plain": [
       "{'clf__max_depth': 9, 'clf__min_samples_leaf': 5}"
      ]
     },
     "execution_count": 82,
     "metadata": {},
     "output_type": "execute_result"
    }
   ],
   "source": [
    "gs_dtc.best_params_"
   ]
  },
  {
   "cell_type": "code",
   "execution_count": 83,
   "metadata": {},
   "outputs": [
    {
     "data": {
      "text/plain": [
       "0.92300000000000004"
      ]
     },
     "execution_count": 83,
     "metadata": {},
     "output_type": "execute_result"
    }
   ],
   "source": [
    "gs_dtc.score(X_tr_tc, y_train)"
   ]
  },
  {
   "cell_type": "code",
   "execution_count": 84,
   "metadata": {
    "scrolled": false
   },
   "outputs": [
    {
     "data": {
      "text/plain": [
       "0.83833333333333337"
      ]
     },
     "execution_count": 84,
     "metadata": {},
     "output_type": "execute_result"
    }
   ],
   "source": [
    "gs_dtc.score(X_ts_tc, y_test)"
   ]
  },
  {
   "cell_type": "markdown",
   "metadata": {},
   "source": [
    "# K Neighbors Classifer"
   ]
  },
  {
   "cell_type": "code",
   "execution_count": 69,
   "metadata": {},
   "outputs": [],
   "source": [
    "knc_pipe = Pipeline([\n",
    "    ('scaler1', StandardScaler()),\n",
    "    ('pca', PCA(5)),\n",
    "    ('scaler2', StandardScaler()),\n",
    "    ('clf', KNeighborsClassifier(weights='distance'))\n",
    "])"
   ]
  },
  {
   "cell_type": "code",
   "execution_count": 70,
   "metadata": {},
   "outputs": [],
   "source": [
    "knc_params = {'clf__n_neighbors':(8, 9, 10, 11, 12),\n",
    "              'clf__leaf_size':(2, 3, 4)}"
   ]
  },
  {
   "cell_type": "code",
   "execution_count": 71,
   "metadata": {},
   "outputs": [],
   "source": [
    "gs_knc = GridSearchCV(knc_pipe, knc_params, cv=5, n_jobs=-1, verbose=1)"
   ]
  },
  {
   "cell_type": "code",
   "execution_count": 72,
   "metadata": {},
   "outputs": [
    {
     "name": "stdout",
     "output_type": "stream",
     "text": [
      "Fitting 5 folds for each of 15 candidates, totalling 75 fits\n",
      "[CV] clf__leaf_size=2, clf__n_neighbors=8 ............................\n",
      "[CV] ............. clf__leaf_size=2, clf__n_neighbors=8, total=   0.0s\n",
      "[CV] clf__leaf_size=2, clf__n_neighbors=8 ............................\n",
      "[CV] ............. clf__leaf_size=2, clf__n_neighbors=8, total=   0.0s\n",
      "[CV] clf__leaf_size=2, clf__n_neighbors=8 ............................\n",
      "[CV] ............. clf__leaf_size=2, clf__n_neighbors=8, total=   0.0s\n",
      "[CV] clf__leaf_size=2, clf__n_neighbors=8 ............................\n",
      "[CV] ............. clf__leaf_size=2, clf__n_neighbors=8, total=   0.0s\n",
      "[CV] clf__leaf_size=2, clf__n_neighbors=8 ............................\n"
     ]
    },
    {
     "name": "stderr",
     "output_type": "stream",
     "text": [
      "[Parallel(n_jobs=-1)]: Done   1 out of   1 | elapsed:    0.0s remaining:    0.0s\n"
     ]
    },
    {
     "name": "stdout",
     "output_type": "stream",
     "text": [
      "[CV] ............. clf__leaf_size=2, clf__n_neighbors=8, total=   0.0s\n",
      "[CV] clf__leaf_size=2, clf__n_neighbors=9 ............................\n",
      "[CV] ............. clf__leaf_size=2, clf__n_neighbors=9, total=   0.0s\n",
      "[CV] clf__leaf_size=2, clf__n_neighbors=9 ............................\n",
      "[CV] ............. clf__leaf_size=2, clf__n_neighbors=9, total=   0.0s\n",
      "[CV] clf__leaf_size=2, clf__n_neighbors=9 ............................\n",
      "[CV] ............. clf__leaf_size=2, clf__n_neighbors=9, total=   0.0s\n",
      "[CV] clf__leaf_size=2, clf__n_neighbors=9 ............................\n",
      "[CV] ............. clf__leaf_size=2, clf__n_neighbors=9, total=   0.0s\n",
      "[CV] clf__leaf_size=2, clf__n_neighbors=9 ............................\n",
      "[CV] ............. clf__leaf_size=2, clf__n_neighbors=9, total=   0.0s\n",
      "[CV] clf__leaf_size=2, clf__n_neighbors=10 ...........................\n",
      "[CV] ............ clf__leaf_size=2, clf__n_neighbors=10, total=   0.0s\n",
      "[CV] clf__leaf_size=2, clf__n_neighbors=10 ...........................\n",
      "[CV] ............ clf__leaf_size=2, clf__n_neighbors=10, total=   0.0s\n",
      "[CV] clf__leaf_size=2, clf__n_neighbors=10 ...........................\n",
      "[CV] ............ clf__leaf_size=2, clf__n_neighbors=10, total=   0.0s\n",
      "[CV] clf__leaf_size=2, clf__n_neighbors=10 ...........................\n",
      "[CV] ............ clf__leaf_size=2, clf__n_neighbors=10, total=   0.0s\n",
      "[CV] clf__leaf_size=2, clf__n_neighbors=10 ...........................\n",
      "[CV] ............ clf__leaf_size=2, clf__n_neighbors=10, total=   0.0s\n",
      "[CV] clf__leaf_size=2, clf__n_neighbors=11 ...........................\n",
      "[CV] ............ clf__leaf_size=2, clf__n_neighbors=11, total=   0.0s\n",
      "[CV] clf__leaf_size=2, clf__n_neighbors=11 ...........................\n",
      "[CV] ............ clf__leaf_size=2, clf__n_neighbors=11, total=   0.0s\n",
      "[CV] clf__leaf_size=2, clf__n_neighbors=11 ...........................\n",
      "[CV] ............ clf__leaf_size=2, clf__n_neighbors=11, total=   0.0s\n",
      "[CV] clf__leaf_size=2, clf__n_neighbors=11 ...........................\n",
      "[CV] ............ clf__leaf_size=2, clf__n_neighbors=11, total=   0.0s\n",
      "[CV] clf__leaf_size=2, clf__n_neighbors=11 ...........................\n",
      "[CV] ............ clf__leaf_size=2, clf__n_neighbors=11, total=   0.0s\n",
      "[CV] clf__leaf_size=2, clf__n_neighbors=12 ...........................\n",
      "[CV] ............ clf__leaf_size=2, clf__n_neighbors=12, total=   0.0s\n",
      "[CV] clf__leaf_size=2, clf__n_neighbors=12 ...........................\n",
      "[CV] ............ clf__leaf_size=2, clf__n_neighbors=12, total=   0.0s\n",
      "[CV] clf__leaf_size=2, clf__n_neighbors=12 ...........................\n",
      "[CV] ............ clf__leaf_size=2, clf__n_neighbors=12, total=   0.0s\n",
      "[CV] clf__leaf_size=2, clf__n_neighbors=12 ...........................\n",
      "[CV] ............ clf__leaf_size=2, clf__n_neighbors=12, total=   0.0s\n",
      "[CV] clf__leaf_size=2, clf__n_neighbors=12 ...........................\n",
      "[CV] ............ clf__leaf_size=2, clf__n_neighbors=12, total=   0.0s\n",
      "[CV] clf__leaf_size=3, clf__n_neighbors=8 ............................\n",
      "[CV] ............. clf__leaf_size=3, clf__n_neighbors=8, total=   0.0s\n",
      "[CV] clf__leaf_size=3, clf__n_neighbors=8 ............................\n",
      "[CV] ............. clf__leaf_size=3, clf__n_neighbors=8, total=   0.0s\n",
      "[CV] clf__leaf_size=3, clf__n_neighbors=8 ............................\n",
      "[CV] ............. clf__leaf_size=3, clf__n_neighbors=8, total=   0.0s\n",
      "[CV] clf__leaf_size=3, clf__n_neighbors=8 ............................\n",
      "[CV] ............. clf__leaf_size=3, clf__n_neighbors=8, total=   0.0s\n",
      "[CV] clf__leaf_size=3, clf__n_neighbors=8 ............................\n",
      "[CV] ............. clf__leaf_size=3, clf__n_neighbors=8, total=   0.0s\n",
      "[CV] clf__leaf_size=3, clf__n_neighbors=9 ............................\n",
      "[CV] ............. clf__leaf_size=3, clf__n_neighbors=9, total=   0.0s\n",
      "[CV] clf__leaf_size=3, clf__n_neighbors=9 ............................\n",
      "[CV] ............. clf__leaf_size=3, clf__n_neighbors=9, total=   0.0s\n",
      "[CV] clf__leaf_size=3, clf__n_neighbors=9 ............................\n",
      "[CV] ............. clf__leaf_size=3, clf__n_neighbors=9, total=   0.0s\n",
      "[CV] clf__leaf_size=3, clf__n_neighbors=9 ............................\n",
      "[CV] ............. clf__leaf_size=3, clf__n_neighbors=9, total=   0.0s\n",
      "[CV] clf__leaf_size=3, clf__n_neighbors=9 ............................\n",
      "[CV] ............. clf__leaf_size=3, clf__n_neighbors=9, total=   0.0s\n",
      "[CV] clf__leaf_size=3, clf__n_neighbors=10 ...........................\n",
      "[CV] ............ clf__leaf_size=3, clf__n_neighbors=10, total=   0.0s\n",
      "[CV] clf__leaf_size=3, clf__n_neighbors=10 ...........................\n",
      "[CV] ............ clf__leaf_size=3, clf__n_neighbors=10, total=   0.0s\n",
      "[CV] clf__leaf_size=3, clf__n_neighbors=10 ...........................\n",
      "[CV] ............ clf__leaf_size=3, clf__n_neighbors=10, total=   0.0s\n",
      "[CV] clf__leaf_size=3, clf__n_neighbors=10 ...........................\n",
      "[CV] ............ clf__leaf_size=3, clf__n_neighbors=10, total=   0.0s\n",
      "[CV] clf__leaf_size=3, clf__n_neighbors=10 ...........................\n",
      "[CV] ............ clf__leaf_size=3, clf__n_neighbors=10, total=   0.0s\n",
      "[CV] clf__leaf_size=3, clf__n_neighbors=11 ...........................\n",
      "[CV] ............ clf__leaf_size=3, clf__n_neighbors=11, total=   0.0s\n",
      "[CV] clf__leaf_size=3, clf__n_neighbors=11 ...........................\n",
      "[CV] ............ clf__leaf_size=3, clf__n_neighbors=11, total=   0.0s\n",
      "[CV] clf__leaf_size=3, clf__n_neighbors=11 ...........................\n",
      "[CV] ............ clf__leaf_size=3, clf__n_neighbors=11, total=   0.0s\n",
      "[CV] clf__leaf_size=3, clf__n_neighbors=11 ...........................\n",
      "[CV] ............ clf__leaf_size=3, clf__n_neighbors=11, total=   0.0s\n",
      "[CV] clf__leaf_size=3, clf__n_neighbors=11 ...........................\n",
      "[CV] ............ clf__leaf_size=3, clf__n_neighbors=11, total=   0.0s\n",
      "[CV] clf__leaf_size=3, clf__n_neighbors=12 ...........................\n",
      "[CV] ............ clf__leaf_size=3, clf__n_neighbors=12, total=   0.0s\n",
      "[CV] clf__leaf_size=3, clf__n_neighbors=12 ...........................\n",
      "[CV] ............ clf__leaf_size=3, clf__n_neighbors=12, total=   0.0s\n",
      "[CV] clf__leaf_size=3, clf__n_neighbors=12 ...........................\n",
      "[CV] ............ clf__leaf_size=3, clf__n_neighbors=12, total=   0.0s\n",
      "[CV] clf__leaf_size=3, clf__n_neighbors=12 ...........................\n",
      "[CV] ............ clf__leaf_size=3, clf__n_neighbors=12, total=   0.0s\n",
      "[CV] clf__leaf_size=3, clf__n_neighbors=12 ...........................\n",
      "[CV] ............ clf__leaf_size=3, clf__n_neighbors=12, total=   0.0s\n",
      "[CV] clf__leaf_size=4, clf__n_neighbors=8 ............................\n",
      "[CV] ............. clf__leaf_size=4, clf__n_neighbors=8, total=   0.0s\n",
      "[CV] clf__leaf_size=4, clf__n_neighbors=8 ............................\n",
      "[CV] ............. clf__leaf_size=4, clf__n_neighbors=8, total=   0.0s\n",
      "[CV] clf__leaf_size=4, clf__n_neighbors=8 ............................\n",
      "[CV] ............. clf__leaf_size=4, clf__n_neighbors=8, total=   0.0s\n",
      "[CV] clf__leaf_size=4, clf__n_neighbors=8 ............................\n",
      "[CV] ............. clf__leaf_size=4, clf__n_neighbors=8, total=   0.0s\n",
      "[CV] clf__leaf_size=4, clf__n_neighbors=8 ............................\n",
      "[CV] ............. clf__leaf_size=4, clf__n_neighbors=8, total=   0.0s\n",
      "[CV] clf__leaf_size=4, clf__n_neighbors=9 ............................\n",
      "[CV] ............. clf__leaf_size=4, clf__n_neighbors=9, total=   0.0s\n",
      "[CV] clf__leaf_size=4, clf__n_neighbors=9 ............................\n",
      "[CV] ............. clf__leaf_size=4, clf__n_neighbors=9, total=   0.0s\n",
      "[CV] clf__leaf_size=4, clf__n_neighbors=9 ............................\n",
      "[CV] ............. clf__leaf_size=4, clf__n_neighbors=9, total=   0.0s\n",
      "[CV] clf__leaf_size=4, clf__n_neighbors=9 ............................\n",
      "[CV] ............. clf__leaf_size=4, clf__n_neighbors=9, total=   0.0s\n",
      "[CV] clf__leaf_size=4, clf__n_neighbors=9 ............................\n",
      "[CV] ............. clf__leaf_size=4, clf__n_neighbors=9, total=   0.0s\n",
      "[CV] clf__leaf_size=4, clf__n_neighbors=10 ...........................\n",
      "[CV] ............ clf__leaf_size=4, clf__n_neighbors=10, total=   0.0s\n",
      "[CV] clf__leaf_size=4, clf__n_neighbors=10 ...........................\n",
      "[CV] ............ clf__leaf_size=4, clf__n_neighbors=10, total=   0.0s\n",
      "[CV] clf__leaf_size=4, clf__n_neighbors=10 ...........................\n",
      "[CV] ............ clf__leaf_size=4, clf__n_neighbors=10, total=   0.0s\n",
      "[CV] clf__leaf_size=4, clf__n_neighbors=10 ...........................\n",
      "[CV] ............ clf__leaf_size=4, clf__n_neighbors=10, total=   0.0s\n",
      "[CV] clf__leaf_size=4, clf__n_neighbors=10 ...........................\n",
      "[CV] ............ clf__leaf_size=4, clf__n_neighbors=10, total=   0.0s\n",
      "[CV] clf__leaf_size=4, clf__n_neighbors=11 ...........................\n",
      "[CV] ............ clf__leaf_size=4, clf__n_neighbors=11, total=   0.0s\n",
      "[CV] clf__leaf_size=4, clf__n_neighbors=11 ...........................\n",
      "[CV] ............ clf__leaf_size=4, clf__n_neighbors=11, total=   0.0s\n",
      "[CV] clf__leaf_size=4, clf__n_neighbors=11 ...........................\n"
     ]
    },
    {
     "name": "stdout",
     "output_type": "stream",
     "text": [
      "[CV] ............ clf__leaf_size=4, clf__n_neighbors=11, total=   0.0s\n",
      "[CV] clf__leaf_size=4, clf__n_neighbors=11 ...........................\n",
      "[CV] ............ clf__leaf_size=4, clf__n_neighbors=11, total=   0.0s\n",
      "[CV] clf__leaf_size=4, clf__n_neighbors=11 ...........................\n",
      "[CV] ............ clf__leaf_size=4, clf__n_neighbors=11, total=   0.0s\n",
      "[CV] clf__leaf_size=4, clf__n_neighbors=12 ...........................\n",
      "[CV] ............ clf__leaf_size=4, clf__n_neighbors=12, total=   0.0s\n",
      "[CV] clf__leaf_size=4, clf__n_neighbors=12 ...........................\n",
      "[CV] ............ clf__leaf_size=4, clf__n_neighbors=12, total=   0.0s\n",
      "[CV] clf__leaf_size=4, clf__n_neighbors=12 ...........................\n",
      "[CV] ............ clf__leaf_size=4, clf__n_neighbors=12, total=   0.0s\n",
      "[CV] clf__leaf_size=4, clf__n_neighbors=12 ...........................\n",
      "[CV] ............ clf__leaf_size=4, clf__n_neighbors=12, total=   0.0s\n",
      "[CV] clf__leaf_size=4, clf__n_neighbors=12 ...........................\n",
      "[CV] ............ clf__leaf_size=4, clf__n_neighbors=12, total=   0.0s\n"
     ]
    },
    {
     "name": "stderr",
     "output_type": "stream",
     "text": [
      "[Parallel(n_jobs=-1)]: Done  75 out of  75 | elapsed:    3.2s finished\n"
     ]
    },
    {
     "data": {
      "text/plain": [
       "GridSearchCV(cv=5, error_score='raise',\n",
       "       estimator=Pipeline(steps=[('scaler1', StandardScaler(copy=True, with_mean=True, with_std=True)), ('pca', PCA(copy=True, iterated_power='auto', n_components=5, random_state=None,\n",
       "  svd_solver='auto', tol=0.0, whiten=False)), ('scaler2', StandardScaler(copy=True, with_mean=True, with_std=True)), ('clf', KNeighborsClassifier(algorithm='auto', leaf_size=30, metric='minkowski',\n",
       "           metric_params=None, n_jobs=1, n_neighbors=5, p=2,\n",
       "           weights='distance'))]),\n",
       "       fit_params={}, iid=True, n_jobs=-1,\n",
       "       param_grid={'clf__n_neighbors': (8, 9, 10, 11, 12), 'clf__leaf_size': (2, 3, 4)},\n",
       "       pre_dispatch='2*n_jobs', refit=True, return_train_score=True,\n",
       "       scoring=None, verbose=2)"
      ]
     },
     "execution_count": 72,
     "metadata": {},
     "output_type": "execute_result"
    }
   ],
   "source": [
    "gs_knc.fit(X_tr_tc, y_train)"
   ]
  },
  {
   "cell_type": "code",
   "execution_count": 73,
   "metadata": {},
   "outputs": [
    {
     "data": {
      "text/plain": [
       "0.90300000000000002"
      ]
     },
     "execution_count": 73,
     "metadata": {},
     "output_type": "execute_result"
    }
   ],
   "source": [
    "gs_knc.best_score_"
   ]
  },
  {
   "cell_type": "code",
   "execution_count": 74,
   "metadata": {},
   "outputs": [
    {
     "data": {
      "text/plain": [
       "{'clf__leaf_size': 2, 'clf__n_neighbors': 10}"
      ]
     },
     "execution_count": 74,
     "metadata": {},
     "output_type": "execute_result"
    }
   ],
   "source": [
    "gs_knc.best_params_"
   ]
  },
  {
   "cell_type": "code",
   "execution_count": 75,
   "metadata": {},
   "outputs": [
    {
     "data": {
      "text/plain": [
       "1.0"
      ]
     },
     "execution_count": 75,
     "metadata": {},
     "output_type": "execute_result"
    }
   ],
   "source": [
    "gs_knc.score(X_tr_tc, y_train)"
   ]
  },
  {
   "cell_type": "code",
   "execution_count": 76,
   "metadata": {},
   "outputs": [
    {
     "data": {
      "text/plain": [
       "0.92000000000000004"
      ]
     },
     "execution_count": 76,
     "metadata": {},
     "output_type": "execute_result"
    }
   ],
   "source": [
    "gs_knc.score(X_ts_tc, y_test)"
   ]
  },
  {
   "cell_type": "markdown",
   "metadata": {},
   "source": [
    "# Support Vector Classifer"
   ]
  },
  {
   "cell_type": "code",
   "execution_count": 59,
   "metadata": {},
   "outputs": [],
   "source": [
    "svc_pipe = Pipeline([\n",
    "    ('scaler1', StandardScaler()),\n",
    "    ('pca', PCA(5)),\n",
    "    ('scaler2', StandardScaler()),\n",
    "    ('clf', SVC(decision_function_shape='ovo'))\n",
    "])"
   ]
  },
  {
   "cell_type": "code",
   "execution_count": 60,
   "metadata": {},
   "outputs": [],
   "source": [
    "svc_params = {'clf__C':(10.0, 1.0, 0.1, .01),\n",
    "              'clf__gamma':(.7, .8, .9, 1.0)}"
   ]
  },
  {
   "cell_type": "code",
   "execution_count": 61,
   "metadata": {},
   "outputs": [],
   "source": [
    "gs_svc = GridSearchCV(svc_pipe, svc_params, cv=5, n_jobs=-1, verbose=1)"
   ]
  },
  {
   "cell_type": "code",
   "execution_count": 62,
   "metadata": {},
   "outputs": [
    {
     "name": "stdout",
     "output_type": "stream",
     "text": [
      "Fitting 5 folds for each of 16 candidates, totalling 80 fits\n"
     ]
    },
    {
     "name": "stderr",
     "output_type": "stream",
     "text": [
      "[Parallel(n_jobs=-1)]: Done  80 out of  80 | elapsed:   13.1s finished\n"
     ]
    },
    {
     "data": {
      "text/plain": [
       "GridSearchCV(cv=5, error_score='raise',\n",
       "       estimator=Pipeline(steps=[('scaler1', StandardScaler(copy=True, with_mean=True, with_std=True)), ('pca', PCA(copy=True, iterated_power='auto', n_components=5, random_state=None,\n",
       "  svd_solver='auto', tol=0.0, whiten=False)), ('scaler2', StandardScaler(copy=True, with_mean=True, with_std=True)), ('clf', SVC(C=1.0, cache...,\n",
       "  max_iter=-1, probability=False, random_state=None, shrinking=True,\n",
       "  tol=0.001, verbose=False))]),\n",
       "       fit_params={}, iid=True, n_jobs=-1,\n",
       "       param_grid={'clf__C': (10.0, 1.0, 0.1, 0.01), 'clf__gamma': (0.7, 0.8, 0.9, 1.0)},\n",
       "       pre_dispatch='2*n_jobs', refit=True, return_train_score=True,\n",
       "       scoring=None, verbose=1)"
      ]
     },
     "execution_count": 62,
     "metadata": {},
     "output_type": "execute_result"
    }
   ],
   "source": [
    "gs_svc.fit(X_tr_tc, y_train)"
   ]
  },
  {
   "cell_type": "code",
   "execution_count": 63,
   "metadata": {},
   "outputs": [
    {
     "data": {
      "text/plain": [
       "0.89849999999999997"
      ]
     },
     "execution_count": 63,
     "metadata": {},
     "output_type": "execute_result"
    }
   ],
   "source": [
    "gs_svc.best_score_"
   ]
  },
  {
   "cell_type": "code",
   "execution_count": 64,
   "metadata": {},
   "outputs": [
    {
     "data": {
      "text/plain": [
       "{'clf__C': 1.0, 'clf__gamma': 0.9}"
      ]
     },
     "execution_count": 64,
     "metadata": {},
     "output_type": "execute_result"
    }
   ],
   "source": [
    "gs_svc.best_params_"
   ]
  },
  {
   "cell_type": "code",
   "execution_count": 65,
   "metadata": {},
   "outputs": [
    {
     "data": {
      "text/plain": [
       "0.95250000000000001"
      ]
     },
     "execution_count": 65,
     "metadata": {},
     "output_type": "execute_result"
    }
   ],
   "source": [
    "gs_svc.score(X_tr_tc, y_train)"
   ]
  },
  {
   "cell_type": "code",
   "execution_count": 67,
   "metadata": {
    "scrolled": true
   },
   "outputs": [
    {
     "data": {
      "text/plain": [
       "0.93166666666666664"
      ]
     },
     "execution_count": 67,
     "metadata": {},
     "output_type": "execute_result"
    }
   ],
   "source": [
    "gs_svc.score(X_ts_tc, y_test)"
   ]
  },
  {
   "cell_type": "markdown",
   "metadata": {},
   "source": [
    "# Best Pipelines"
   ]
  },
  {
   "cell_type": "code",
   "execution_count": 4,
   "metadata": {},
   "outputs": [],
   "source": [
    "svc_pipe_final = Pipeline([\n",
    "    ('scaler1', StandardScaler()),\n",
    "    ('pca', PCA(5)),\n",
    "    ('scaler2', StandardScaler()),\n",
    "    ('clf', SVC(decision_function_shape='ovo', C=1, gamma=.9))\n",
    "])"
   ]
  },
  {
   "cell_type": "code",
   "execution_count": 7,
   "metadata": {},
   "outputs": [
    {
     "data": {
      "text/plain": [
       "Pipeline(steps=[('scaler1', StandardScaler(copy=True, with_mean=True, with_std=True)), ('pca', PCA(copy=True, iterated_power='auto', n_components=5, random_state=None,\n",
       "  svd_solver='auto', tol=0.0, whiten=False)), ('scaler2', StandardScaler(copy=True, with_mean=True, with_std=True)), ('clf', SVC(C=1, cache_s...,\n",
       "  max_iter=-1, probability=False, random_state=None, shrinking=True,\n",
       "  tol=0.001, verbose=False))])"
      ]
     },
     "execution_count": 7,
     "metadata": {},
     "output_type": "execute_result"
    }
   ],
   "source": [
    "svc_pipe_final.fit(X_tr_tc, y_train)"
   ]
  },
  {
   "cell_type": "code",
   "execution_count": 8,
   "metadata": {},
   "outputs": [
    {
     "data": {
      "text/plain": [
       "0.93166666666666664"
      ]
     },
     "execution_count": 8,
     "metadata": {},
     "output_type": "execute_result"
    }
   ],
   "source": [
    "svc_pipe_final.score(X_ts_tc, y_test)"
   ]
  },
  {
   "cell_type": "code",
   "execution_count": 9,
   "metadata": {},
   "outputs": [],
   "source": [
    "knc_pipe_final = Pipeline([\n",
    "    ('scaler1', StandardScaler()),\n",
    "    ('pca', PCA(5)),\n",
    "    ('scaler2', StandardScaler()),\n",
    "    ('clf', KNeighborsClassifier(weights='distance', leaf_size=2, n_neighbors=10))\n",
    "])"
   ]
  },
  {
   "cell_type": "code",
   "execution_count": 10,
   "metadata": {},
   "outputs": [
    {
     "data": {
      "text/plain": [
       "Pipeline(steps=[('scaler1', StandardScaler(copy=True, with_mean=True, with_std=True)), ('pca', PCA(copy=True, iterated_power='auto', n_components=5, random_state=None,\n",
       "  svd_solver='auto', tol=0.0, whiten=False)), ('scaler2', StandardScaler(copy=True, with_mean=True, with_std=True)), ('clf', KNeighborsClassifier(algorithm='auto', leaf_size=2, metric='minkowski',\n",
       "           metric_params=None, n_jobs=1, n_neighbors=10, p=2,\n",
       "           weights='distance'))])"
      ]
     },
     "execution_count": 10,
     "metadata": {},
     "output_type": "execute_result"
    }
   ],
   "source": [
    "knc_pipe_final.fit(X_tr_tc, y_train)"
   ]
  },
  {
   "cell_type": "code",
   "execution_count": 12,
   "metadata": {},
   "outputs": [
    {
     "data": {
      "text/plain": [
       "0.92000000000000004"
      ]
     },
     "execution_count": 12,
     "metadata": {},
     "output_type": "execute_result"
    }
   ],
   "source": [
    "knc_pipe_final.score(X_ts_tc, y_test)"
   ]
  },
  {
   "cell_type": "code",
   "execution_count": null,
   "metadata": {},
   "outputs": [],
   "source": []
  }
 ],
 "metadata": {
  "kernelspec": {
   "display_name": "Python 3",
   "language": "python",
   "name": "python3"
  },
  "language_info": {
   "codemirror_mode": {
    "name": "ipython",
    "version": 3
   },
   "file_extension": ".py",
   "mimetype": "text/x-python",
   "name": "python",
   "nbconvert_exporter": "python",
   "pygments_lexer": "ipython3",
   "version": "3.6.3"
  }
 },
 "nbformat": 4,
 "nbformat_minor": 2
}
